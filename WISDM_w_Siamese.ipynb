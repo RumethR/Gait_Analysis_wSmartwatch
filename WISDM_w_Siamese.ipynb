{
  "nbformat": 4,
  "nbformat_minor": 0,
  "metadata": {
    "colab": {
      "provenance": [],
      "include_colab_link": true
    },
    "kernelspec": {
      "name": "python3",
      "display_name": "Python 3"
    },
    "language_info": {
      "name": "python"
    }
  },
  "cells": [
    {
      "cell_type": "markdown",
      "metadata": {
        "id": "view-in-github",
        "colab_type": "text"
      },
      "source": [
        "<a href=\"https://colab.research.google.com/github/RumethR/Gait_Analysis_wSmartwatch/blob/master/WISDM_w_Siamese.ipynb\" target=\"_parent\"><img src=\"https://colab.research.google.com/assets/colab-badge.svg\" alt=\"Open In Colab\"/></a>"
      ]
    },
    {
      "cell_type": "code",
      "execution_count": 16,
      "metadata": {
        "colab": {
          "base_uri": "https://localhost:8080/"
        },
        "id": "Reo4LuYqvy8h",
        "outputId": "ab7b0788-dca5-451f-faa0-05432ad297a1"
      },
      "outputs": [
        {
          "output_type": "stream",
          "name": "stdout",
          "text": [
            "Drive already mounted at /content/drive; to attempt to forcibly remount, call drive.mount(\"/content/drive\", force_remount=True).\n"
          ]
        }
      ],
      "source": [
        "from google.colab import drive\n",
        "drive.mount('/content/drive')"
      ]
    },
    {
      "cell_type": "code",
      "source": [
        "import os\n",
        "\n",
        "accelerometer_data_file_path = '/content/drive/MyDrive/Implementation/watch/accel'\n",
        "acc_files = os.listdir(accelerometer_data_file_path)\n",
        "print(acc_files[0]) #Note that this won't print the first file in the directory, but the list has all files\n",
        "\n",
        "gyroscope_data_file_path = '/content/drive/MyDrive/Implementation/watch/gyro'\n",
        "gyro_files = os.listdir(gyroscope_data_file_path) #Note that the list contains 52 files because the first one is a .DS_Store file\n",
        "print(gyro_files[0])"
      ],
      "metadata": {
        "id": "v6PNX0hoyZ1j",
        "colab": {
          "base_uri": "https://localhost:8080/"
        },
        "outputId": "fe64c06f-3605-4264-e6fa-c17827fe6ff6"
      },
      "execution_count": 17,
      "outputs": [
        {
          "output_type": "stream",
          "name": "stdout",
          "text": [
            "data_1626_accel_watch.txt\n",
            "data_1629_gyro_watch.txt\n"
          ]
        }
      ]
    },
    {
      "cell_type": "code",
      "source": [
        "#Map respective gyro file for the subject for the selected acc file\n",
        "wisdm_dataset = {}\n",
        "\n",
        "for acc_file in acc_files:\n",
        "  #get the subject_id\n",
        "  acc_file_name = acc_file.split(\"_\") #The second index will contain the subject_id\n",
        "  for gyro_file in gyro_files:\n",
        "    gyro_file_name = gyro_file.split(\"_\")\n",
        "    if acc_file_name[1] == gyro_file_name[1]:\n",
        "      wisdm_dataset[acc_file] = gyro_file\n",
        "      gyro_files.remove(gyro_file)\n",
        "\n",
        "print(wisdm_dataset)"
      ],
      "metadata": {
        "id": "urHmN6IgycbI",
        "colab": {
          "base_uri": "https://localhost:8080/"
        },
        "outputId": "b144c64f-31db-48b5-9278-fcb198503228"
      },
      "execution_count": 18,
      "outputs": [
        {
          "output_type": "stream",
          "name": "stdout",
          "text": [
            "{'data_1626_accel_watch.txt': 'data_1626_gyro_watch.txt', 'data_1631_accel_watch.txt': 'data_1631_gyro_watch.txt', 'data_1605_accel_watch.txt': 'data_1605_gyro_watch.txt', 'data_1608_accel_watch.txt': 'data_1608_gyro_watch.txt', 'data_1650_accel_watch.txt': 'data_1650_gyro_watch.txt', 'data_1600_accel_watch.txt': 'data_1600_gyro_watch.txt', 'data_1623_accel_watch.txt': 'data_1623_gyro_watch.txt', 'data_1612_accel_watch.txt': 'data_1612_gyro_watch.txt', 'data_1620_accel_watch.txt': 'data_1620_gyro_watch.txt', 'data_1637_accel_watch.txt': 'data_1637_gyro_watch.txt', 'data_1618_accel_watch.txt': 'data_1618_gyro_watch.txt', 'data_1633_accel_watch.txt': 'data_1633_gyro_watch.txt', 'data_1635_accel_watch.txt': 'data_1635_gyro_watch.txt', 'data_1611_accel_watch.txt': 'data_1611_gyro_watch.txt', 'data_1619_accel_watch.txt': 'data_1619_gyro_watch.txt', 'data_1601_accel_watch.txt': 'data_1601_gyro_watch.txt', 'data_1614_accel_watch.txt': 'data_1614_gyro_watch.txt', 'data_1616_accel_watch.txt': 'data_1616_gyro_watch.txt', '.DS_Store': '.DS_Store', 'data_1645_accel_watch.txt': 'data_1645_gyro_watch.txt', 'data_1606_accel_watch.txt': 'data_1606_gyro_watch.txt', 'data_1615_accel_watch.txt': 'data_1615_gyro_watch.txt', 'data_1638_accel_watch.txt': 'data_1638_gyro_watch.txt', 'data_1607_accel_watch.txt': 'data_1607_gyro_watch.txt', 'data_1636_accel_watch.txt': 'data_1636_gyro_watch.txt', 'data_1627_accel_watch.txt': 'data_1627_gyro_watch.txt', 'data_1625_accel_watch.txt': 'data_1625_gyro_watch.txt', 'data_1643_accel_watch.txt': 'data_1643_gyro_watch.txt', 'data_1640_accel_watch.txt': 'data_1640_gyro_watch.txt', 'data_1602_accel_watch.txt': 'data_1602_gyro_watch.txt', 'data_1644_accel_watch.txt': 'data_1644_gyro_watch.txt', 'data_1642_accel_watch.txt': 'data_1642_gyro_watch.txt', 'data_1629_accel_watch.txt': 'data_1629_gyro_watch.txt', 'data_1624_accel_watch.txt': 'data_1624_gyro_watch.txt', 'data_1610_accel_watch.txt': 'data_1610_gyro_watch.txt', 'data_1603_accel_watch.txt': 'data_1603_gyro_watch.txt', 'data_1621_accel_watch.txt': 'data_1621_gyro_watch.txt', 'data_1646_accel_watch.txt': 'data_1646_gyro_watch.txt', 'data_1628_accel_watch.txt': 'data_1628_gyro_watch.txt', 'data_1604_accel_watch.txt': 'data_1604_gyro_watch.txt', 'data_1634_accel_watch.txt': 'data_1634_gyro_watch.txt', 'data_1613_accel_watch.txt': 'data_1613_gyro_watch.txt', 'data_1647_accel_watch.txt': 'data_1647_gyro_watch.txt', 'data_1609_accel_watch.txt': 'data_1609_gyro_watch.txt', 'data_1630_accel_watch.txt': 'data_1630_gyro_watch.txt', 'data_1639_accel_watch.txt': 'data_1639_gyro_watch.txt', 'data_1648_accel_watch.txt': 'data_1648_gyro_watch.txt', 'data_1617_accel_watch.txt': 'data_1617_gyro_watch.txt', 'data_1632_accel_watch.txt': 'data_1632_gyro_watch.txt', 'data_1649_accel_watch.txt': 'data_1649_gyro_watch.txt', 'data_1641_accel_watch.txt': 'data_1641_gyro_watch.txt', 'data_1622_accel_watch.txt': 'data_1622_gyro_watch.txt'}\n"
          ]
        }
      ]
    },
    {
      "cell_type": "code",
      "source": [
        "def format_and_segment_data(acc_data, gyro_data):\n",
        "    def round_to_10_seconds(timestamp):\n",
        "        return timestamp - (timestamp % 10**10)  # 10 seconds in nanoseconds\n",
        "\n",
        "    def format_data(raw_data):\n",
        "        formatted_data = []\n",
        "        for entry in raw_data:\n",
        "            split_entry = entry[:-1].split(',')\n",
        "            split_entry[2] = int(split_entry[2])\n",
        "            for index in range(3, len(split_entry)):\n",
        "                split_entry[index] = float(split_entry[index])\n",
        "            formatted_data.append(split_entry)\n",
        "        return formatted_data\n",
        "\n",
        "    def segment_data(formatted_data):\n",
        "        segmented_data = {}\n",
        "        for line in formatted_data:\n",
        "            if line[1] == \"A\": #We are only using the walking\n",
        "                rounded_time = round_to_10_seconds(line[2])\n",
        "                segment_start = rounded_time\n",
        "                segment_end = rounded_time + 10**10  # 10 seconds in nanoseconds\n",
        "\n",
        "                if segment_start not in segmented_data:\n",
        "                    segmented_data[segment_start] = []\n",
        "\n",
        "                #Sampling rate for the WISDM dataset is 20Hz. This is make sure we have mathematically correct number of readings\n",
        "                if(len(segmented_data[segment_start]) < 200):\n",
        "                  segmented_data[segment_start].append(line)\n",
        "            else:\n",
        "                break\n",
        "\n",
        "        # Deleting first and last keys to avoid segments that don't contain a full 10 seconds of data\n",
        "        if segmented_data:\n",
        "            first_key = next(iter(segmented_data))\n",
        "            last_key = list(segmented_data.keys())[-1]\n",
        "            del segmented_data[first_key]\n",
        "            del segmented_data[last_key]\n",
        "\n",
        "        return segmented_data\n",
        "\n",
        "    acc_formatted_data = format_data(acc_data)\n",
        "    gyro_formatted_data = format_data(gyro_data)\n",
        "\n",
        "    acc_segmented = segment_data(acc_formatted_data)\n",
        "    gyro_segmented = segment_data(gyro_formatted_data)\n",
        "\n",
        "    # Check if dictionaries have the same keys\n",
        "    if set(acc_segmented.keys()) == set(gyro_segmented.keys()):\n",
        "      print(\"The dictionaries have the same keys.\")\n",
        "    else:\n",
        "      print(\"The dictionaries have different keys.\")\n",
        "      # If the dictionaries don't have the same keys, use a set to make refs\n",
        "      # matched_timestamps = set(set1_acc_segmented_data.keys()).intersection(set1_gyro_segmented_data.keys())\n",
        "      # print(len(matched_timestamps))\n",
        "\n",
        "    return acc_segmented, gyro_segmented\n",
        "\n",
        "# Assuming you have acc_data and gyro_data ready\n",
        "set1_acc_file_path = '/content/drive/MyDrive/Implementation/watch/accel/data_1626_accel_watch.txt'\n",
        "set1_gyro_file_path = '/content/drive/MyDrive/Implementation/watch/gyro/data_1626_gyro_watch.txt'\n",
        "\n",
        "set2_acc_file_path = '/content/drive/MyDrive/Implementation/watch/accel/data_1627_accel_watch.txt'\n",
        "set2_gyro_file_path = '/content/drive/MyDrive/Implementation/watch/gyro/data_1627_gyro_watch.txt'\n",
        "\n",
        "def read_files(acc_file_path, gyro_file_path):\n",
        "  #reads the files from the drive and split them into seperate lines\n",
        "  with open(acc_file_path, 'r') as file:\n",
        "    acc_content = file.read()\n",
        "    acc_data = acc_content.splitlines()\n",
        "    print(acc_data[0])\n",
        "\n",
        "  with open(gyro_file_path, 'r') as file:\n",
        "    gyro_content = file.read()\n",
        "    gyro_data = gyro_content.splitlines()\n",
        "    print(gyro_data[0])\n",
        "\n",
        "  return format_and_segment_data(acc_data, gyro_data)\n",
        "\n",
        "set1_acc_segmented_data, set1_gyro_segmented_data = read_files(set1_acc_file_path, set1_gyro_file_path)\n",
        "set2_acc_segmented_data, set2_gyro_segmented_data = read_files(set2_acc_file_path, set2_gyro_file_path)"
      ],
      "metadata": {
        "colab": {
          "base_uri": "https://localhost:8080/"
        },
        "id": "307xA0uWy5--",
        "outputId": "862390a5-0d97-452d-ca01-609a3ce7e19b"
      },
      "execution_count": 19,
      "outputs": [
        {
          "output_type": "stream",
          "name": "stdout",
          "text": [
            "1626,A,372824809784090,7.230639,-0.8752304,-0.18510172;\n",
            "1626,A,372824859284090,0.23433474,0.58682114,2.0321581;\n",
            "The dictionaries have the same keys.\n",
            "1627,A,216836851128086,2.726846,0.23732524,-4.664354;\n",
            "1627,A,216836900628086,1.0744395,2.2197602,0.5899488;\n",
            "The dictionaries have the same keys.\n"
          ]
        }
      ]
    },
    {
      "cell_type": "code",
      "source": [
        "# Combine the values from both acc and gyro into one timestamp\n",
        "def combine_data(acc_data, gyro_data):\n",
        "  # Current format {(Timestamp): [[sensorX, sensorY, sensorZ], [sensorX, sensorY, sensorZ] ... 198 ]}\n",
        "  # Both dictionaries has the same key (Timestamp).\n",
        "  combined_map = {}\n",
        "  for key, value in acc_data.items():\n",
        "    acc_values = acc_data[key]\n",
        "    gyro_values = gyro_data[key]\n",
        "\n",
        "    #create an empty array for each timestep. and then add the combined data to that array\n",
        "    combined_map[key] = []\n",
        "\n",
        "    for x in acc_values:\n",
        "      #check if there is a corresponding timestamp in the gyro_values for each acc_value\n",
        "      for y in gyro_values:\n",
        "        x[2] = y[2]\n",
        "        # if the timestamps are equal create an array with both the values\n",
        "        array_all = [x[3], x[4], x[5], y[3], y[4], y[5]] #include x[0] if subject_id is needed in the future\n",
        "        combined_map[key].append(array_all)\n",
        "        break\n",
        "\n",
        "  return combined_map\n",
        "\n",
        "set1_combined = combine_data(set1_acc_segmented_data, set1_gyro_segmented_data)\n",
        "set2_combined = combine_data(set2_acc_segmented_data, set2_gyro_segmented_data)"
      ],
      "metadata": {
        "id": "XoRge8m9uzBE"
      },
      "execution_count": 20,
      "outputs": []
    },
    {
      "cell_type": "code",
      "source": [
        "# Create pairs and labels\n",
        "# {timestamp: [[[], [], []]],[]}\n",
        "# set1_combined, set2_combined\n",
        "import random\n",
        "import numpy as np\n",
        "\n",
        "def create_pairs():\n",
        "  pairs = []\n",
        "  labels = []\n",
        "  random_keys = set()\n",
        "\n",
        "  # Run a loop for 8 times\n",
        "  for i in range(0,9):\n",
        "    #select a random key from the set\n",
        "    random_pair = []\n",
        "\n",
        "    while True:\n",
        "      random_key = random.choice(list(set1_combined.keys()))\n",
        "      if random_key not in random_keys:\n",
        "        random_keys.add(random_key)\n",
        "        random_pair.append(set1_combined[random_key])\n",
        "        break\n",
        "\n",
        "    while True:\n",
        "      random_key = random.choice(list(set2_combined.keys()))\n",
        "      if random_key not in random_keys:\n",
        "        random_keys.add(random_key)\n",
        "        random_pair.append(set2_combined[random_key])\n",
        "        break\n",
        "\n",
        "    labels.append(0) #because the two sequences are from two different people\n",
        "    pairs.append(random_pair)\n",
        "\n",
        "  set1_keys = set(set1_combined.keys())\n",
        "  remaining_keys = set1_keys.difference(random_keys)\n",
        "\n",
        "  for i in range(len(pairs), len(set1_combined)):\n",
        "    true_pair = []\n",
        "    for i in remaining_keys:\n",
        "      if len(true_pair) < 2:\n",
        "        true_pair.append(set1_combined[i])\n",
        "      else:\n",
        "        pairs.append(true_pair)\n",
        "        labels.append(1)\n",
        "        break\n",
        "\n",
        "  print(len(pairs))\n",
        "  print(labels)\n",
        "  return pairs, labels\n",
        "\n",
        "pairs, labels = create_pairs()\n"
      ],
      "metadata": {
        "colab": {
          "base_uri": "https://localhost:8080/"
        },
        "id": "wa54bjsZemGC",
        "outputId": "229e2528-dcea-40a4-ce51-8d14be62ee98"
      },
      "execution_count": 21,
      "outputs": [
        {
          "output_type": "stream",
          "name": "stdout",
          "text": [
            "17\n",
            "[0, 0, 0, 0, 0, 0, 0, 0, 0, 1, 1, 1, 1, 1, 1, 1, 1]\n"
          ]
        }
      ]
    },
    {
      "cell_type": "code",
      "source": [
        "from sklearn.model_selection import train_test_split\n",
        "\n",
        "# Shuffle pairs and labels, so that the model does not lean any patterns\n",
        "# Combine pairs and labels\n",
        "combined_data = list(zip(pairs, labels))\n",
        "\n",
        "# Shuffle the combined data\n",
        "random.shuffle(combined_data)\n",
        "\n",
        "# Unpack the shuffled data back into pairs and labels\n",
        "shuffled_pairs, shuffled_labels = zip(*combined_data)\n",
        "\n",
        "train_sequences, val_sequences, train_labels, val_labels = train_test_split(shuffled_pairs, shuffled_labels, test_size=0.2, random_state=42)\n",
        "\n",
        "print(\"Number of training data sets: \", len(train_sequences))\n",
        "print(\"Each set has an array of length: \", len(train_sequences[0]))\n",
        "print(\"One of those two elements in the array contain\", len(train_sequences[0][0]), \"data points (20hz polling rate, 10 seconds of data).\")\n",
        "print(\"Each data point has\", len(train_sequences[0][0][0]), \"elements. 3 accelerometer values and 3 gyroscope values\")\n",
        "\n",
        "train_pairs = np.array(train_sequences)\n",
        "val_pairs = np.array(val_sequences)\n",
        "\n",
        "train_labels = np.array(train_labels)\n",
        "print(train_labels)\n",
        "val_labels = np.array(val_labels)\n",
        "\n",
        "print(train_labels.shape)"
      ],
      "metadata": {
        "colab": {
          "base_uri": "https://localhost:8080/"
        },
        "id": "e_UW91uIPxRG",
        "outputId": "a7d2de72-e0e4-4519-a737-53591e0a1757"
      },
      "execution_count": 22,
      "outputs": [
        {
          "output_type": "stream",
          "name": "stdout",
          "text": [
            "Number of training data sets:  13\n",
            "Each set has an array of length:  2\n",
            "One of those two elements in the array contain 200 data points (20hz polling rate, 10 seconds of data).\n",
            "Each data point has 6 elements. 3 accelerometer values and 3 gyroscope values\n",
            "[1 1 0 1 0 0 1 0 0 0 1 1 0]\n",
            "(13,)\n"
          ]
        }
      ]
    },
    {
      "cell_type": "markdown",
      "source": [
        "Creating pairs of data for the Simaese network. Ideally the data should look something like this.\n",
        "\n",
        "Each subject has 17 10-second data instances. The last element in the 2D-Array indicates weather the data is from the same person or not.\n",
        "\n",
        "1 = Same person\n",
        "0 = Different people\n",
        "\n",
        "> [Timestamp] : [[accX, accY, accZ], [gyroX, gyroY, gyroZ], [1]]\n",
        "\n",
        "> [Timestamp] : [[accX, accY, accZ], [gyroX, gyroY, gyroZ], [0]]\n",
        "\n",
        "\n",
        "\n",
        "\n"
      ],
      "metadata": {
        "id": "IHLeCIqTs8zf"
      }
    },
    {
      "cell_type": "code",
      "source": [
        "import tensorflow as tf\n",
        "from tensorflow.keras import layers, models\n",
        "\n",
        "# Define the Siamese model for sequence data\n",
        "def create_siamese_network(input_shape):\n",
        "    # Define the base LSTM network (twin network)\n",
        "    base_network = models.Sequential([\n",
        "        layers.Bidirectional(layers.LSTM(64, input_shape=input_shape, return_sequences=True)),\n",
        "        layers.LSTM(256),\n",
        "        layers.Dense(128, activation='relu'),\n",
        "        layers.Dense(64, activation='relu')\n",
        "    ])\n",
        "\n",
        "    # Inputs for two sequences of accelerometer and gyroscope data\n",
        "    input_a = tf.keras.Input(shape=input_shape)\n",
        "    input_b = tf.keras.Input(shape=input_shape)\n",
        "\n",
        "    # Process each sequence through the twin network\n",
        "    processed_a = base_network(input_a)\n",
        "    processed_b = base_network(input_b)\n",
        "\n",
        "    # Calculate absolute difference between the processed outputs\n",
        "    distance = tf.keras.layers.Lambda(lambda x: tf.abs(x[0] - x[1]))([processed_a, processed_b])\n",
        "\n",
        "    # Output layer for similarity prediction\n",
        "    output = layers.Dense(1, activation='sigmoid')(distance)\n",
        "\n",
        "    # Siamese model\n",
        "    siamese_model = tf.keras.Model(inputs=[input_a, input_b], outputs=output)\n",
        "    return siamese_model\n",
        "\n",
        "# Define input shape (adjust based on your sequence length and sensor data)\n",
        "input_shape = (200, 6)  # Replace with your input shape\n",
        "siamese_network = create_siamese_network(input_shape)\n",
        "\n",
        "# Compile the model\n",
        "siamese_network.compile(optimizer='adam', loss='binary_crossentropy', metrics=['accuracy'])\n",
        "\n",
        "# Print model summary\n",
        "siamese_network.summary()"
      ],
      "metadata": {
        "colab": {
          "base_uri": "https://localhost:8080/"
        },
        "id": "c60G5lQYyfzC",
        "outputId": "5871fa0c-278c-4123-fc1c-1d817f3b1ba4"
      },
      "execution_count": 23,
      "outputs": [
        {
          "output_type": "stream",
          "name": "stdout",
          "text": [
            "Model: \"model_2\"\n",
            "__________________________________________________________________________________________________\n",
            " Layer (type)                Output Shape                 Param #   Connected to                  \n",
            "==================================================================================================\n",
            " input_5 (InputLayer)        [(None, 200, 6)]             0         []                            \n",
            "                                                                                                  \n",
            " input_6 (InputLayer)        [(None, 200, 6)]             0         []                            \n",
            "                                                                                                  \n",
            " sequential_2 (Sequential)   (None, 64)                   471744    ['input_5[0][0]',             \n",
            "                                                                     'input_6[0][0]']             \n",
            "                                                                                                  \n",
            " lambda_2 (Lambda)           (None, 64)                   0         ['sequential_2[0][0]',        \n",
            "                                                                     'sequential_2[1][0]']        \n",
            "                                                                                                  \n",
            " dense_7 (Dense)             (None, 1)                    65        ['lambda_2[0][0]']            \n",
            "                                                                                                  \n",
            "==================================================================================================\n",
            "Total params: 471809 (1.80 MB)\n",
            "Trainable params: 471809 (1.80 MB)\n",
            "Non-trainable params: 0 (0.00 Byte)\n",
            "__________________________________________________________________________________________________\n"
          ]
        }
      ]
    },
    {
      "cell_type": "code",
      "source": [
        "# Train the model.\n",
        "history = siamese_network.fit(\n",
        "    [train_pairs[:, 0], train_pairs[:, 1]],  # Training pairs\n",
        "    train_labels,  # Training labels\n",
        "    epochs=30,  # Number of epochs\n",
        "    batch_size=32,  # Batch size\n",
        "    validation_data=([val_pairs[:, 0], val_pairs[:, 1]], val_labels)  # Validation data\n",
        ")\n"
      ],
      "metadata": {
        "colab": {
          "base_uri": "https://localhost:8080/"
        },
        "id": "BXgT5Ioe_Ckc",
        "outputId": "ecc04cc4-2ca9-429b-efaf-105ffc7419e9"
      },
      "execution_count": 24,
      "outputs": [
        {
          "output_type": "stream",
          "name": "stdout",
          "text": [
            "Epoch 1/30\n",
            "1/1 [==============================] - 16s 16s/step - loss: 0.6971 - accuracy: 0.5385 - val_loss: 0.7044 - val_accuracy: 0.2500\n",
            "Epoch 2/30\n",
            "1/1 [==============================] - 1s 1s/step - loss: 0.6908 - accuracy: 0.5385 - val_loss: 0.6549 - val_accuracy: 1.0000\n",
            "Epoch 3/30\n",
            "1/1 [==============================] - 1s 1s/step - loss: 0.6485 - accuracy: 0.7692 - val_loss: 0.6204 - val_accuracy: 0.7500\n",
            "Epoch 4/30\n",
            "1/1 [==============================] - 1s 1s/step - loss: 0.6130 - accuracy: 0.7692 - val_loss: 0.5803 - val_accuracy: 0.7500\n",
            "Epoch 5/30\n",
            "1/1 [==============================] - 1s 1s/step - loss: 0.5748 - accuracy: 0.7692 - val_loss: 0.5376 - val_accuracy: 0.7500\n",
            "Epoch 6/30\n",
            "1/1 [==============================] - 1s 1s/step - loss: 0.5276 - accuracy: 0.7692 - val_loss: 0.4990 - val_accuracy: 0.7500\n",
            "Epoch 7/30\n",
            "1/1 [==============================] - 1s 1s/step - loss: 0.4744 - accuracy: 0.7692 - val_loss: 0.4703 - val_accuracy: 0.5000\n",
            "Epoch 8/30\n",
            "1/1 [==============================] - 1s 1s/step - loss: 0.4311 - accuracy: 0.7692 - val_loss: 0.4357 - val_accuracy: 0.7500\n",
            "Epoch 9/30\n",
            "1/1 [==============================] - 2s 2s/step - loss: 0.3735 - accuracy: 0.9231 - val_loss: 0.3785 - val_accuracy: 0.7500\n",
            "Epoch 10/30\n",
            "1/1 [==============================] - 2s 2s/step - loss: 0.3102 - accuracy: 1.0000 - val_loss: 0.3054 - val_accuracy: 1.0000\n",
            "Epoch 11/30\n",
            "1/1 [==============================] - 2s 2s/step - loss: 0.2520 - accuracy: 1.0000 - val_loss: 0.2194 - val_accuracy: 1.0000\n",
            "Epoch 12/30\n",
            "1/1 [==============================] - 1s 1s/step - loss: 0.1919 - accuracy: 1.0000 - val_loss: 0.1243 - val_accuracy: 1.0000\n",
            "Epoch 13/30\n",
            "1/1 [==============================] - 1s 1s/step - loss: 0.1283 - accuracy: 1.0000 - val_loss: 0.0570 - val_accuracy: 1.0000\n",
            "Epoch 14/30\n",
            "1/1 [==============================] - 1s 1s/step - loss: 0.0820 - accuracy: 1.0000 - val_loss: 0.0679 - val_accuracy: 1.0000\n",
            "Epoch 15/30\n",
            "1/1 [==============================] - 1s 1s/step - loss: 0.0835 - accuracy: 1.0000 - val_loss: 0.0276 - val_accuracy: 1.0000\n",
            "Epoch 16/30\n",
            "1/1 [==============================] - 1s 1s/step - loss: 0.0228 - accuracy: 1.0000 - val_loss: 0.0330 - val_accuracy: 1.0000\n",
            "Epoch 17/30\n",
            "1/1 [==============================] - 1s 1s/step - loss: 0.0293 - accuracy: 1.0000 - val_loss: 0.0275 - val_accuracy: 1.0000\n",
            "Epoch 18/30\n",
            "1/1 [==============================] - 1s 1s/step - loss: 0.0221 - accuracy: 1.0000 - val_loss: 0.0316 - val_accuracy: 1.0000\n",
            "Epoch 19/30\n",
            "1/1 [==============================] - 2s 2s/step - loss: 0.0139 - accuracy: 1.0000 - val_loss: 0.0159 - val_accuracy: 1.0000\n",
            "Epoch 20/30\n",
            "1/1 [==============================] - 2s 2s/step - loss: 0.0059 - accuracy: 1.0000 - val_loss: 0.0402 - val_accuracy: 1.0000\n",
            "Epoch 21/30\n",
            "1/1 [==============================] - 1s 1s/step - loss: 0.0041 - accuracy: 1.0000 - val_loss: 0.1088 - val_accuracy: 1.0000\n",
            "Epoch 22/30\n",
            "1/1 [==============================] - 1s 1s/step - loss: 0.0042 - accuracy: 1.0000 - val_loss: 0.0820 - val_accuracy: 1.0000\n",
            "Epoch 23/30\n",
            "1/1 [==============================] - 1s 1s/step - loss: 0.0033 - accuracy: 1.0000 - val_loss: 0.0516 - val_accuracy: 1.0000\n",
            "Epoch 24/30\n",
            "1/1 [==============================] - 1s 1s/step - loss: 0.0021 - accuracy: 1.0000 - val_loss: 0.0340 - val_accuracy: 1.0000\n",
            "Epoch 25/30\n",
            "1/1 [==============================] - 1s 1s/step - loss: 0.0012 - accuracy: 1.0000 - val_loss: 0.0221 - val_accuracy: 1.0000\n",
            "Epoch 26/30\n",
            "1/1 [==============================] - 1s 1s/step - loss: 6.1996e-04 - accuracy: 1.0000 - val_loss: 0.0147 - val_accuracy: 1.0000\n",
            "Epoch 27/30\n",
            "1/1 [==============================] - 1s 1s/step - loss: 3.3213e-04 - accuracy: 1.0000 - val_loss: 0.0099 - val_accuracy: 1.0000\n",
            "Epoch 28/30\n",
            "1/1 [==============================] - 1s 1s/step - loss: 1.9326e-04 - accuracy: 1.0000 - val_loss: 0.0068 - val_accuracy: 1.0000\n",
            "Epoch 29/30\n",
            "1/1 [==============================] - 2s 2s/step - loss: 1.2108e-04 - accuracy: 1.0000 - val_loss: 0.0048 - val_accuracy: 1.0000\n",
            "Epoch 30/30\n",
            "1/1 [==============================] - 2s 2s/step - loss: 8.6475e-05 - accuracy: 1.0000 - val_loss: 0.0036 - val_accuracy: 1.0000\n"
          ]
        }
      ]
    },
    {
      "cell_type": "code",
      "source": [
        "# Evaluate the LSTM model\n",
        "import matplotlib.pyplot as plt\n",
        "\n",
        "# Assuming history contains training and validation metrics\n",
        "\n",
        "# Plot training & validation accuracy values\n",
        "plt.plot(history.history['accuracy'])\n",
        "plt.plot(history.history['val_accuracy'])\n",
        "plt.title('Model accuracy')\n",
        "plt.xlabel('Epoch')\n",
        "plt.ylabel('Accuracy')\n",
        "plt.legend(['Train', 'Validation'], loc='upper left')\n",
        "plt.show()\n",
        "\n",
        "# Plot training & validation loss values\n",
        "plt.plot(history.history['loss'])\n",
        "plt.plot(history.history['val_loss'])\n",
        "plt.title('Model loss')\n",
        "plt.xlabel('Epoch')\n",
        "plt.ylabel('Loss')\n",
        "plt.legend(['Train', 'Validation'], loc='upper left')\n",
        "plt.show()"
      ],
      "metadata": {
        "colab": {
          "base_uri": "https://localhost:8080/",
          "height": 927
        },
        "id": "NG0lKs0HGn34",
        "outputId": "9b95b1c4-4dd2-4cef-ef07-45233e43e450"
      },
      "execution_count": 25,
      "outputs": [
        {
          "output_type": "display_data",
          "data": {
            "text/plain": [
              "<Figure size 640x480 with 1 Axes>"
            ],
            "image/png": "[encoded data removed]"
          },
          "metadata": {}
        },
        {
          "output_type": "display_data",
          "data": {
            "text/plain": [
              "<Figure size 640x480 with 1 Axes>"
            ],
            "image/png": "[encoded data removed]"
          },
          "metadata": {}
        }
      ]
    },
    {
      "cell_type": "code",
      "source": [
        "# Create the CNN model\n",
        "def create_cnn_siamese_network(input_shape):\n",
        "    # Define the base LSTM network (twin network)\n",
        "    base_network = models.Sequential([\n",
        "        layers.Conv1D(32, kernel_size=3, activation='relu', input_shape=input_shape),\n",
        "        layers.MaxPooling1D(pool_size=2),\n",
        "        layers.Conv1D(64, kernel_size=3, activation='relu'),\n",
        "        layers.MaxPooling1D(pool_size=2),\n",
        "        layers.Conv1D(128, kernel_size=3, activation='relu'),\n",
        "        layers.MaxPooling1D(pool_size=2),\n",
        "        layers.Flatten(),\n",
        "        #layers.Dense(256, activation='relu', kernel_regularizer=l2(0.01)),\n",
        "        layers.Dense(256, activation='relu'),\n",
        "        layers.Dropout(0.5)\n",
        "    ])\n",
        "\n",
        "    # Inputs for two sequences of accelerometer and gyroscope data\n",
        "    input_a = tf.keras.Input(shape=input_shape)\n",
        "    input_b = tf.keras.Input(shape=input_shape)\n",
        "\n",
        "    # Process each sequence through the twin network\n",
        "    processed_a = base_network(input_a)\n",
        "    processed_b = base_network(input_b)\n",
        "\n",
        "    # Calculate absolute difference between the processed outputs\n",
        "    distance = tf.keras.layers.Lambda(lambda x: tf.abs(x[0] - x[1]))([processed_a, processed_b])\n",
        "\n",
        "    # Output layer for similarity prediction\n",
        "    output = layers.Dense(1, activation='sigmoid')(distance)\n",
        "\n",
        "    # Siamese model\n",
        "    siamese_model = tf.keras.Model(inputs=[input_a, input_b], outputs=output)\n",
        "    return siamese_model\n",
        "\n",
        "# Define input shape (adjust based on your sequence length and sensor data)\n",
        "input_shape = (200, 6)  # Replace with your input shape\n",
        "cnn_siamese_network = create_cnn_siamese_network(input_shape)\n",
        "\n",
        "# Compile the model\n",
        "cnn_siamese_network.compile(optimizer='adam', loss='binary_crossentropy', metrics=['accuracy'])\n",
        "\n",
        "# Print model summary\n",
        "cnn_siamese_network.summary()"
      ],
      "metadata": {
        "colab": {
          "base_uri": "https://localhost:8080/"
        },
        "id": "KYZkd7N6i0aU",
        "outputId": "17473e98-0b1c-49dc-ad7f-5df10ee8740d"
      },
      "execution_count": 26,
      "outputs": [
        {
          "output_type": "stream",
          "name": "stdout",
          "text": [
            "Model: \"model_3\"\n",
            "__________________________________________________________________________________________________\n",
            " Layer (type)                Output Shape                 Param #   Connected to                  \n",
            "==================================================================================================\n",
            " input_7 (InputLayer)        [(None, 200, 6)]             0         []                            \n",
            "                                                                                                  \n",
            " input_8 (InputLayer)        [(None, 200, 6)]             0         []                            \n",
            "                                                                                                  \n",
            " sequential_3 (Sequential)   (None, 256)                  785440    ['input_7[0][0]',             \n",
            "                                                                     'input_8[0][0]']             \n",
            "                                                                                                  \n",
            " lambda_3 (Lambda)           (None, 256)                  0         ['sequential_3[0][0]',        \n",
            "                                                                     'sequential_3[1][0]']        \n",
            "                                                                                                  \n",
            " dense_9 (Dense)             (None, 1)                    257       ['lambda_3[0][0]']            \n",
            "                                                                                                  \n",
            "==================================================================================================\n",
            "Total params: 785697 (3.00 MB)\n",
            "Trainable params: 785697 (3.00 MB)\n",
            "Non-trainable params: 0 (0.00 Byte)\n",
            "__________________________________________________________________________________________________\n"
          ]
        }
      ]
    },
    {
      "cell_type": "code",
      "source": [
        "# Train the cnn model.\n",
        "cnn_history = cnn_siamese_network.fit(\n",
        "    [train_pairs[:, 0], train_pairs[:, 1]],  # Training pairs\n",
        "    train_labels,  # Training labels\n",
        "    epochs=30,  # Number of epochs\n",
        "    batch_size=32,  # Batch size\n",
        "    validation_data=([val_pairs[:, 0], val_pairs[:, 1]], val_labels)  # Validation data\n",
        ")"
      ],
      "metadata": {
        "colab": {
          "base_uri": "https://localhost:8080/"
        },
        "id": "OF2Lh1zL2DbL",
        "outputId": "3b6a61a3-4d0d-4f61-deb6-f79164ec5432"
      },
      "execution_count": 27,
      "outputs": [
        {
          "output_type": "stream",
          "name": "stdout",
          "text": [
            "Epoch 1/30\n",
            "1/1 [==============================] - 2s 2s/step - loss: 0.7292 - accuracy: 0.6154 - val_loss: 1.0286 - val_accuracy: 0.5000\n",
            "Epoch 2/30\n",
            "1/1 [==============================] - 0s 62ms/step - loss: 5.8807 - accuracy: 0.4615 - val_loss: 0.5921 - val_accuracy: 0.5000\n",
            "Epoch 3/30\n",
            "1/1 [==============================] - 0s 81ms/step - loss: 0.9860 - accuracy: 0.6154 - val_loss: 0.3904 - val_accuracy: 1.0000\n",
            "Epoch 4/30\n",
            "1/1 [==============================] - 0s 64ms/step - loss: 1.9613 - accuracy: 0.5385 - val_loss: 0.3250 - val_accuracy: 1.0000\n",
            "Epoch 5/30\n",
            "1/1 [==============================] - 0s 65ms/step - loss: 1.8387 - accuracy: 0.5385 - val_loss: 0.2445 - val_accuracy: 1.0000\n",
            "Epoch 6/30\n",
            "1/1 [==============================] - 0s 89ms/step - loss: 1.1431 - accuracy: 0.5385 - val_loss: 0.2480 - val_accuracy: 1.0000\n",
            "Epoch 7/30\n",
            "1/1 [==============================] - 0s 83ms/step - loss: 0.2241 - accuracy: 1.0000 - val_loss: 0.3062 - val_accuracy: 0.7500\n",
            "Epoch 8/30\n",
            "1/1 [==============================] - 0s 64ms/step - loss: 0.0729 - accuracy: 1.0000 - val_loss: 0.3668 - val_accuracy: 0.7500\n",
            "Epoch 9/30\n",
            "1/1 [==============================] - 0s 62ms/step - loss: 0.4142 - accuracy: 0.7692 - val_loss: 0.3735 - val_accuracy: 0.7500\n",
            "Epoch 10/30\n",
            "1/1 [==============================] - 0s 78ms/step - loss: 0.2790 - accuracy: 0.7692 - val_loss: 0.3455 - val_accuracy: 0.7500\n",
            "Epoch 11/30\n",
            "1/1 [==============================] - 0s 67ms/step - loss: 0.2836 - accuracy: 0.8462 - val_loss: 0.2955 - val_accuracy: 0.7500\n",
            "Epoch 12/30\n",
            "1/1 [==============================] - 0s 61ms/step - loss: 0.0690 - accuracy: 1.0000 - val_loss: 0.2576 - val_accuracy: 0.7500\n",
            "Epoch 13/30\n",
            "1/1 [==============================] - 0s 81ms/step - loss: 0.1140 - accuracy: 1.0000 - val_loss: 0.2159 - val_accuracy: 0.7500\n",
            "Epoch 14/30\n",
            "1/1 [==============================] - 0s 91ms/step - loss: 0.1192 - accuracy: 1.0000 - val_loss: 0.1887 - val_accuracy: 1.0000\n",
            "Epoch 15/30\n",
            "1/1 [==============================] - 0s 65ms/step - loss: 0.1744 - accuracy: 0.9231 - val_loss: 0.1725 - val_accuracy: 1.0000\n",
            "Epoch 16/30\n",
            "1/1 [==============================] - 0s 79ms/step - loss: 0.1234 - accuracy: 1.0000 - val_loss: 0.1618 - val_accuracy: 1.0000\n",
            "Epoch 17/30\n",
            "1/1 [==============================] - 0s 62ms/step - loss: 0.0496 - accuracy: 1.0000 - val_loss: 0.1549 - val_accuracy: 1.0000\n",
            "Epoch 18/30\n",
            "1/1 [==============================] - 0s 61ms/step - loss: 0.0676 - accuracy: 1.0000 - val_loss: 0.1539 - val_accuracy: 1.0000\n",
            "Epoch 19/30\n",
            "1/1 [==============================] - 0s 67ms/step - loss: 0.0422 - accuracy: 1.0000 - val_loss: 0.1556 - val_accuracy: 1.0000\n",
            "Epoch 20/30\n",
            "1/1 [==============================] - 0s 72ms/step - loss: 0.0158 - accuracy: 1.0000 - val_loss: 0.1557 - val_accuracy: 1.0000\n",
            "Epoch 21/30\n",
            "1/1 [==============================] - 0s 61ms/step - loss: 0.0233 - accuracy: 1.0000 - val_loss: 0.1560 - val_accuracy: 1.0000\n",
            "Epoch 22/30\n",
            "1/1 [==============================] - 0s 60ms/step - loss: 0.0257 - accuracy: 1.0000 - val_loss: 0.1535 - val_accuracy: 1.0000\n",
            "Epoch 23/30\n",
            "1/1 [==============================] - 0s 66ms/step - loss: 0.0175 - accuracy: 1.0000 - val_loss: 0.1520 - val_accuracy: 1.0000\n",
            "Epoch 24/30\n",
            "1/1 [==============================] - 0s 71ms/step - loss: 0.0166 - accuracy: 1.0000 - val_loss: 0.1506 - val_accuracy: 1.0000\n",
            "Epoch 25/30\n",
            "1/1 [==============================] - 0s 62ms/step - loss: 0.0142 - accuracy: 1.0000 - val_loss: 0.1495 - val_accuracy: 1.0000\n",
            "Epoch 26/30\n",
            "1/1 [==============================] - 0s 64ms/step - loss: 0.0143 - accuracy: 1.0000 - val_loss: 0.1472 - val_accuracy: 1.0000\n",
            "Epoch 27/30\n",
            "1/1 [==============================] - 0s 79ms/step - loss: 0.0123 - accuracy: 1.0000 - val_loss: 0.1432 - val_accuracy: 1.0000\n",
            "Epoch 28/30\n",
            "1/1 [==============================] - 0s 60ms/step - loss: 0.0094 - accuracy: 1.0000 - val_loss: 0.1392 - val_accuracy: 1.0000\n",
            "Epoch 29/30\n",
            "1/1 [==============================] - 0s 62ms/step - loss: 0.0104 - accuracy: 1.0000 - val_loss: 0.1351 - val_accuracy: 1.0000\n",
            "Epoch 30/30\n",
            "1/1 [==============================] - 0s 66ms/step - loss: 0.0094 - accuracy: 1.0000 - val_loss: 0.1313 - val_accuracy: 1.0000\n"
          ]
        }
      ]
    },
    {
      "cell_type": "code",
      "source": [
        "# Plot training & validation accuracy values\n",
        "plt.plot(cnn_history.history['accuracy'])\n",
        "plt.plot(cnn_history.history['val_accuracy'])\n",
        "plt.title('Model accuracy')\n",
        "plt.xlabel('Epoch')\n",
        "plt.ylabel('Accuracy')\n",
        "plt.legend(['Train', 'Validation'], loc='upper left')\n",
        "plt.show()\n",
        "\n",
        "# Plot training & validation loss values\n",
        "plt.plot(cnn_history.history['loss'])\n",
        "plt.plot(cnn_history.history['val_loss'])\n",
        "plt.title('Model loss')\n",
        "plt.xlabel('Epoch')\n",
        "plt.ylabel('Loss')\n",
        "plt.legend(['Train', 'Validation'], loc='upper left')\n",
        "plt.show()"
      ],
      "metadata": {
        "colab": {
          "base_uri": "https://localhost:8080/",
          "height": 927
        },
        "id": "JPKzNHSpGcgO",
        "outputId": "75132062-79f6-46a3-c7a9-79ed8f88be92"
      },
      "execution_count": 28,
      "outputs": [
        {
          "output_type": "display_data",
          "data": {
            "text/plain": [
              "<Figure size 640x480 with 1 Axes>"
            ],
            "image/png": "[encoded data removed]"
          },
          "metadata": {}
        },
        {
          "output_type": "display_data",
          "data": {
            "text/plain": [
              "<Figure size 640x480 with 1 Axes>"
            ],
            "image/png": "[encoded data removed]"
          },
          "metadata": {}
        }
      ]
    },
    {
      "cell_type": "code",
      "source": [
        "# Save the entire model to a HDF5 file (including architecture, weights, and training configuration)\n",
        "siamese_network.save('siamese_model.tflite')"
      ],
      "metadata": {
        "id": "6z9LZEGoDFbU"
      },
      "execution_count": 29,
      "outputs": []
    },
    {
      "cell_type": "code",
      "source": [
        "# Compress the folder\n",
        "!zip -r /content/folder_name.zip /content/siamese_model.tflite\n",
        "\n",
        "# Generate a download link\n",
        "from google.colab import files\n",
        "files.download(\"/content/folder_name.zip\")"
      ],
      "metadata": {
        "colab": {
          "base_uri": "https://localhost:8080/",
          "height": 156
        },
        "id": "riHtBPBgRkpG",
        "outputId": "c6b7d4cb-558d-42d9-e2b3-99bdd85b7218"
      },
      "execution_count": 30,
      "outputs": [
        {
          "output_type": "stream",
          "name": "stdout",
          "text": [
            "  adding: content/siamese_model.tflite/ (stored 0%)\n",
            "  adding: content/siamese_model.tflite/assets/ (stored 0%)\n",
            "  adding: content/siamese_model.tflite/fingerprint.pb (stored 0%)\n",
            "  adding: content/siamese_model.tflite/saved_model.pb (deflated 90%)\n",
            "  adding: content/siamese_model.tflite/keras_metadata.pb (deflated 93%)\n",
            "  adding: content/siamese_model.tflite/variables/ (stored 0%)\n",
            "  adding: content/siamese_model.tflite/variables/variables.index (deflated 66%)\n",
            "  adding: content/siamese_model.tflite/variables/variables.data-00000-of-00001 (deflated 7%)\n"
          ]
        },
        {
          "output_type": "display_data",
          "data": {
            "text/plain": [
              "<IPython.core.display.Javascript object>"
            ],
            "application/javascript": [
              "\n",
              "    async function download(id, filename, size) {\n",
              "      if (!google.colab.kernel.accessAllowed) {\n",
              "        return;\n",
              "      }\n",
              "      const div = document.createElement('div');\n",
              "      const label = document.createElement('label');\n",
              "      label.textContent = `Downloading \"${filename}\": `;\n",
              "      div.appendChild(label);\n",
              "      const progress = document.createElement('progress');\n",
              "      progress.max = size;\n",
              "      div.appendChild(progress);\n",
              "      document.body.appendChild(div);\n",
              "\n",
              "      const buffers = [];\n",
              "      let downloaded = 0;\n",
              "\n",
              "      const channel = await google.colab.kernel.comms.open(id);\n",
              "      // Send a message to notify the kernel that we're ready.\n",
              "      channel.send({})\n",
              "\n",
              "      for await (const message of channel.messages) {\n",
              "        // Send a message to notify the kernel that we're ready.\n",
              "        channel.send({})\n",
              "        if (message.buffers) {\n",
              "          for (const buffer of message.buffers) {\n",
              "            buffers.push(buffer);\n",
              "            downloaded += buffer.byteLength;\n",
              "            progress.value = downloaded;\n",
              "          }\n",
              "        }\n",
              "      }\n",
              "      const blob = new Blob(buffers, {type: 'application/binary'});\n",
              "      const a = document.createElement('a');\n",
              "      a.href = window.URL.createObjectURL(blob);\n",
              "      a.download = filename;\n",
              "      div.appendChild(a);\n",
              "      a.click();\n",
              "      div.remove();\n",
              "    }\n",
              "  "
            ]
          },
          "metadata": {}
        },
        {
          "output_type": "display_data",
          "data": {
            "text/plain": [
              "<IPython.core.display.Javascript object>"
            ],
            "application/javascript": [
              "download(\"download_4cf1f317-d616-4ae5-9ed5-f4db5c870a73\", \"folder_name.zip\", 5558281)"
            ]
          },
          "metadata": {}
        }
      ]
    }
  ]
}