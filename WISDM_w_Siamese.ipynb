{
  "nbformat": 4,
  "nbformat_minor": 0,
  "metadata": {
    "colab": {
      "provenance": [],
      "toc_visible": true,
      "include_colab_link": true
    },
    "kernelspec": {
      "name": "python3",
      "display_name": "Python 3"
    },
    "language_info": {
      "name": "python"
    }
  },
  "cells": [
    {
      "cell_type": "markdown",
      "metadata": {
        "id": "view-in-github",
        "colab_type": "text"
      },
      "source": [
        "<a href=\"https://colab.research.google.com/github/RumethR/Gait_Analysis_wSmartwatch/blob/master/WISDM_w_Siamese.ipynb\" target=\"_parent\"><img src=\"https://colab.research.google.com/assets/colab-badge.svg\" alt=\"Open In Colab\"/></a>"
      ]
    },
    {
      "cell_type": "markdown",
      "source": [
        "# Importing Dataset"
      ],
      "metadata": {
        "id": "evdArpCzkzjV"
      }
    },
    {
      "cell_type": "code",
      "execution_count": 1,
      "metadata": {
        "colab": {
          "base_uri": "https://localhost:8080/"
        },
        "id": "Reo4LuYqvy8h",
        "outputId": "e219b235-7730-410d-9053-0300fa22c5f7"
      },
      "outputs": [
        {
          "output_type": "stream",
          "name": "stdout",
          "text": [
            "Mounted at /content/drive\n"
          ]
        }
      ],
      "source": [
        "from google.colab import drive\n",
        "drive.mount('/content/drive')"
      ]
    },
    {
      "cell_type": "code",
      "source": [
        "import os\n",
        "\n",
        "accelerometer_data_file_path = '/content/drive/MyDrive/Implementation/watch/accel'\n",
        "acc_files = os.listdir(accelerometer_data_file_path)\n",
        "print(acc_files[0]) #Note that this won't print the first file in the directory, but the list has all files\n",
        "\n",
        "gyroscope_data_file_path = '/content/drive/MyDrive/Implementation/watch/gyro'\n",
        "gyro_files = os.listdir(gyroscope_data_file_path) #Note that the list contains 52 files because the first one is a .DS_Store file\n",
        "print(gyro_files[0])"
      ],
      "metadata": {
        "id": "v6PNX0hoyZ1j",
        "colab": {
          "base_uri": "https://localhost:8080/"
        },
        "outputId": "446489f3-128a-42c3-b018-84c4f3b6910b"
      },
      "execution_count": 2,
      "outputs": [
        {
          "output_type": "stream",
          "name": "stdout",
          "text": [
            "data_1626_accel_watch.txt\n",
            "data_1629_gyro_watch.txt\n"
          ]
        }
      ]
    },
    {
      "cell_type": "code",
      "source": [
        "#Map respective gyro file for the subject for the selected acc file\n",
        "wisdm_dataset = {}\n",
        "\n",
        "for acc_file in acc_files:\n",
        "  #get the subject_id\n",
        "  acc_file_name = acc_file.split(\"_\") #The second index will contain the subject_id\n",
        "  for gyro_file in gyro_files:\n",
        "    gyro_file_name = gyro_file.split(\"_\")\n",
        "    if acc_file_name[1] == gyro_file_name[1]:\n",
        "      wisdm_dataset[acc_file] = gyro_file\n",
        "      gyro_files.remove(gyro_file)\n",
        "\n",
        "print(wisdm_dataset)"
      ],
      "metadata": {
        "id": "urHmN6IgycbI",
        "colab": {
          "base_uri": "https://localhost:8080/"
        },
        "outputId": "7d8ff863-4cae-4ab5-a0e5-56f183078a22"
      },
      "execution_count": 3,
      "outputs": [
        {
          "output_type": "stream",
          "name": "stdout",
          "text": [
            "{'data_1626_accel_watch.txt': 'data_1626_gyro_watch.txt', 'data_1631_accel_watch.txt': 'data_1631_gyro_watch.txt', 'data_1605_accel_watch.txt': 'data_1605_gyro_watch.txt', 'data_1608_accel_watch.txt': 'data_1608_gyro_watch.txt', 'data_1650_accel_watch.txt': 'data_1650_gyro_watch.txt', 'data_1600_accel_watch.txt': 'data_1600_gyro_watch.txt', 'data_1623_accel_watch.txt': 'data_1623_gyro_watch.txt', 'data_1612_accel_watch.txt': 'data_1612_gyro_watch.txt', 'data_1620_accel_watch.txt': 'data_1620_gyro_watch.txt', 'data_1637_accel_watch.txt': 'data_1637_gyro_watch.txt', 'data_1618_accel_watch.txt': 'data_1618_gyro_watch.txt', 'data_1633_accel_watch.txt': 'data_1633_gyro_watch.txt', 'data_1635_accel_watch.txt': 'data_1635_gyro_watch.txt', 'data_1611_accel_watch.txt': 'data_1611_gyro_watch.txt', 'data_1619_accel_watch.txt': 'data_1619_gyro_watch.txt', 'data_1601_accel_watch.txt': 'data_1601_gyro_watch.txt', 'data_1614_accel_watch.txt': 'data_1614_gyro_watch.txt', 'data_1616_accel_watch.txt': 'data_1616_gyro_watch.txt', '.DS_Store': '.DS_Store', 'data_1645_accel_watch.txt': 'data_1645_gyro_watch.txt', 'data_1606_accel_watch.txt': 'data_1606_gyro_watch.txt', 'data_1615_accel_watch.txt': 'data_1615_gyro_watch.txt', 'data_1638_accel_watch.txt': 'data_1638_gyro_watch.txt', 'data_1607_accel_watch.txt': 'data_1607_gyro_watch.txt', 'data_1636_accel_watch.txt': 'data_1636_gyro_watch.txt', 'data_1627_accel_watch.txt': 'data_1627_gyro_watch.txt', 'data_1625_accel_watch.txt': 'data_1625_gyro_watch.txt', 'data_1643_accel_watch.txt': 'data_1643_gyro_watch.txt', 'data_1640_accel_watch.txt': 'data_1640_gyro_watch.txt', 'data_1602_accel_watch.txt': 'data_1602_gyro_watch.txt', 'data_1644_accel_watch.txt': 'data_1644_gyro_watch.txt', 'data_1642_accel_watch.txt': 'data_1642_gyro_watch.txt', 'data_1629_accel_watch.txt': 'data_1629_gyro_watch.txt', 'data_1624_accel_watch.txt': 'data_1624_gyro_watch.txt', 'data_1610_accel_watch.txt': 'data_1610_gyro_watch.txt', 'data_1603_accel_watch.txt': 'data_1603_gyro_watch.txt', 'data_1621_accel_watch.txt': 'data_1621_gyro_watch.txt', 'data_1646_accel_watch.txt': 'data_1646_gyro_watch.txt', 'data_1628_accel_watch.txt': 'data_1628_gyro_watch.txt', 'data_1604_accel_watch.txt': 'data_1604_gyro_watch.txt', 'data_1634_accel_watch.txt': 'data_1634_gyro_watch.txt', 'data_1613_accel_watch.txt': 'data_1613_gyro_watch.txt', 'data_1647_accel_watch.txt': 'data_1647_gyro_watch.txt', 'data_1609_accel_watch.txt': 'data_1609_gyro_watch.txt', 'data_1630_accel_watch.txt': 'data_1630_gyro_watch.txt', 'data_1639_accel_watch.txt': 'data_1639_gyro_watch.txt', 'data_1648_accel_watch.txt': 'data_1648_gyro_watch.txt', 'data_1617_accel_watch.txt': 'data_1617_gyro_watch.txt', 'data_1632_accel_watch.txt': 'data_1632_gyro_watch.txt', 'data_1649_accel_watch.txt': 'data_1649_gyro_watch.txt', 'data_1641_accel_watch.txt': 'data_1641_gyro_watch.txt', 'data_1622_accel_watch.txt': 'data_1622_gyro_watch.txt'}\n"
          ]
        }
      ]
    },
    {
      "cell_type": "markdown",
      "source": [
        "# Formatting and Segementing into 10-second instances"
      ],
      "metadata": {
        "id": "KUKZBUiyk5LD"
      }
    },
    {
      "cell_type": "code",
      "source": [
        "def format_and_segment_data(acc_data, gyro_data):\n",
        "    def round_to_10_seconds(timestamp):\n",
        "        return timestamp - (timestamp % 10**10)  # 10 seconds in nanoseconds\n",
        "\n",
        "    def format_data(raw_data):\n",
        "        formatted_data = []\n",
        "        for entry in raw_data:\n",
        "            split_entry = entry[:-1].split(',')\n",
        "            split_entry[2] = int(split_entry[2])\n",
        "            for index in range(3, len(split_entry)):\n",
        "                split_entry[index] = float(split_entry[index])\n",
        "            formatted_data.append(split_entry)\n",
        "        return formatted_data\n",
        "\n",
        "    def segment_data(formatted_data):\n",
        "        segmented_data = {}\n",
        "        for line in formatted_data:\n",
        "            if line[1] == \"A\": #We are only using the walking\n",
        "                rounded_time = round_to_10_seconds(line[2])\n",
        "                segment_start = rounded_time\n",
        "                segment_end = rounded_time + 10**10  # 10 seconds in nanoseconds\n",
        "\n",
        "                if segment_start not in segmented_data:\n",
        "                    segmented_data[segment_start] = []\n",
        "\n",
        "                #Sampling rate for the WISDM dataset is 20Hz. This is make sure we have mathematically correct number of readings\n",
        "                if(len(segmented_data[segment_start]) < 200):\n",
        "                  segmented_data[segment_start].append(line)\n",
        "            else:\n",
        "                break\n",
        "\n",
        "        # Deleting first and last keys to avoid segments that don't contain a full 10 seconds of data\n",
        "        if segmented_data:\n",
        "            first_key = next(iter(segmented_data))\n",
        "            last_key = list(segmented_data.keys())[-1]\n",
        "            del segmented_data[first_key]\n",
        "            del segmented_data[last_key]\n",
        "\n",
        "        return segmented_data\n",
        "\n",
        "    acc_formatted_data = format_data(acc_data)\n",
        "    gyro_formatted_data = format_data(gyro_data)\n",
        "\n",
        "    acc_segmented = segment_data(acc_formatted_data)\n",
        "    gyro_segmented = segment_data(gyro_formatted_data)\n",
        "\n",
        "    # Check if dictionaries have the same keys\n",
        "    if set(acc_segmented.keys()) == set(gyro_segmented.keys()):\n",
        "      print(\"The dictionaries have the same keys.\")\n",
        "    else:\n",
        "      print(\"The dictionaries have different keys.\")\n",
        "      # If the dictionaries don't have the same keys, use a set to make refs\n",
        "      # matched_timestamps = set(set1_acc_segmented_data.keys()).intersection(set1_gyro_segmented_data.keys())\n",
        "      # print(len(matched_timestamps))\n",
        "\n",
        "    return acc_segmented, gyro_segmented\n",
        "\n",
        "# Assuming you have acc_data and gyro_data ready\n",
        "set1_acc_file_path = '/content/drive/MyDrive/Implementation/watch/accel/data_1626_accel_watch.txt'\n",
        "set1_gyro_file_path = '/content/drive/MyDrive/Implementation/watch/gyro/data_1626_gyro_watch.txt'\n",
        "\n",
        "set2_acc_file_path = '/content/drive/MyDrive/Implementation/watch/accel/data_1627_accel_watch.txt'\n",
        "set2_gyro_file_path = '/content/drive/MyDrive/Implementation/watch/gyro/data_1627_gyro_watch.txt'\n",
        "\n",
        "def read_files(acc_file_path, gyro_file_path):\n",
        "  #reads the files from the drive and split them into seperate lines\n",
        "  with open(acc_file_path, 'r') as file:\n",
        "    acc_content = file.read()\n",
        "    acc_data = acc_content.splitlines()\n",
        "    print(acc_data[0])\n",
        "\n",
        "  with open(gyro_file_path, 'r') as file:\n",
        "    gyro_content = file.read()\n",
        "    gyro_data = gyro_content.splitlines()\n",
        "    print(gyro_data[0])\n",
        "\n",
        "  return format_and_segment_data(acc_data, gyro_data)\n",
        "\n",
        "set1_acc_segmented_data, set1_gyro_segmented_data = read_files(set1_acc_file_path, set1_gyro_file_path)\n",
        "set2_acc_segmented_data, set2_gyro_segmented_data = read_files(set2_acc_file_path, set2_gyro_file_path)"
      ],
      "metadata": {
        "colab": {
          "base_uri": "https://localhost:8080/"
        },
        "id": "307xA0uWy5--",
        "outputId": "507197fe-246a-4a15-add1-7e5d4f8f6a4d"
      },
      "execution_count": 4,
      "outputs": [
        {
          "output_type": "stream",
          "name": "stdout",
          "text": [
            "1626,A,372824809784090,7.230639,-0.8752304,-0.18510172;\n",
            "1626,A,372824859284090,0.23433474,0.58682114,2.0321581;\n",
            "The dictionaries have the same keys.\n",
            "1627,A,216836851128086,2.726846,0.23732524,-4.664354;\n",
            "1627,A,216836900628086,1.0744395,2.2197602,0.5899488;\n",
            "The dictionaries have the same keys.\n"
          ]
        }
      ]
    },
    {
      "cell_type": "code",
      "source": [
        "# Combine the values from both acc and gyro into one timestamp\n",
        "def combine_data(acc_data, gyro_data):\n",
        "  # Current format {(Timestamp): [[sensorX, sensorY, sensorZ], [sensorX, sensorY, sensorZ] ... 198 ]}\n",
        "  # Both dictionaries has the same key (Timestamp).\n",
        "  combined_map = {}\n",
        "  for key, value in acc_data.items():\n",
        "    acc_values = acc_data[key]\n",
        "    gyro_values = gyro_data[key]\n",
        "\n",
        "    #create an empty array for each timestep. and then add the combined data to that array\n",
        "    combined_map[key] = []\n",
        "\n",
        "    for x in acc_values:\n",
        "      #check if there is a corresponding timestamp in the gyro_values for each acc_value\n",
        "      for y in gyro_values:\n",
        "        x[2] = y[2]\n",
        "        # if the timestamps are equal create an array with both the values\n",
        "        array_all = [x[3], x[4], x[5], y[3], y[4], y[5]] #include x[0] if subject_id is needed in the future\n",
        "        combined_map[key].append(array_all)\n",
        "        break\n",
        "\n",
        "  return combined_map\n",
        "\n",
        "set1_combined = combine_data(set1_acc_segmented_data, set1_gyro_segmented_data)\n",
        "set2_combined = combine_data(set2_acc_segmented_data, set2_gyro_segmented_data)"
      ],
      "metadata": {
        "id": "XoRge8m9uzBE"
      },
      "execution_count": 5,
      "outputs": []
    },
    {
      "cell_type": "code",
      "source": [
        "# Visualize the the combined Acc and Gyro Data\n",
        "print(\"Number of Timestamps: \", len(set1_combined.keys()))\n",
        "\n",
        "# Each reading should represent 10 seconds and each 10 second segement should\n",
        "# contain 200 readings\n",
        "for key,value in set1_combined.items():\n",
        "  print(\"Number of Readings for Timestamp - \", key, len(value))\n",
        "\n",
        "# Converting the array containing the 200 readings into a Numpy array for shape\n",
        "values = list(set1_combined.values())\n",
        "numpy_array = np.array(values)\n",
        "print(\"Shape of Train/Test/Val Sequences:\", numpy_array.shape)\n"
      ],
      "metadata": {
        "colab": {
          "base_uri": "https://localhost:8080/"
        },
        "id": "Ov_AvUuP6bxP",
        "outputId": "fa561af5-aa69-4d22-d031-553953b436c7"
      },
      "execution_count": 16,
      "outputs": [
        {
          "output_type": "stream",
          "name": "stdout",
          "text": [
            "Number of Timestamps:  17\n",
            "Number of Readings for Timestamp -  372830000000000 200\n",
            "Number of Readings for Timestamp -  372840000000000 200\n",
            "Number of Readings for Timestamp -  372850000000000 200\n",
            "Number of Readings for Timestamp -  372860000000000 200\n",
            "Number of Readings for Timestamp -  372870000000000 200\n",
            "Number of Readings for Timestamp -  372880000000000 200\n",
            "Number of Readings for Timestamp -  372890000000000 200\n",
            "Number of Readings for Timestamp -  372900000000000 200\n",
            "Number of Readings for Timestamp -  372910000000000 200\n",
            "Number of Readings for Timestamp -  372920000000000 200\n",
            "Number of Readings for Timestamp -  372930000000000 200\n",
            "Number of Readings for Timestamp -  372940000000000 200\n",
            "Number of Readings for Timestamp -  372950000000000 200\n",
            "Number of Readings for Timestamp -  372960000000000 200\n",
            "Number of Readings for Timestamp -  372970000000000 200\n",
            "Number of Readings for Timestamp -  372980000000000 200\n",
            "Number of Readings for Timestamp -  372990000000000 200\n",
            "Shape of the NumPy array: (17, 200, 6)\n"
          ]
        }
      ]
    },
    {
      "cell_type": "markdown",
      "source": [
        "# Pre-processing"
      ],
      "metadata": {
        "id": "7TKTm-3WdC2_"
      }
    },
    {
      "cell_type": "markdown",
      "source": [
        "The force of gravity imparted on the Accelerometer will need to be removed. From all the Accelerometer readings."
      ],
      "metadata": {
        "id": "dGzbjsa1dLZQ"
      }
    },
    {
      "cell_type": "code",
      "source": [],
      "metadata": {
        "id": "q2vs_32TdFvV"
      },
      "execution_count": null,
      "outputs": []
    },
    {
      "cell_type": "markdown",
      "source": [
        "# Creating Pairs of Acc and Gyro Data"
      ],
      "metadata": {
        "id": "f1VDi3-RlMGo"
      }
    },
    {
      "cell_type": "code",
      "source": [
        "# Create pairs and labels\n",
        "# {timestamp: [[[], [], []]],[]}\n",
        "# set1_combined, set2_combined\n",
        "import random\n",
        "import numpy as np\n",
        "\n",
        "def create_pairs():\n",
        "  pairs = []\n",
        "  labels = []\n",
        "  random_keys = set()\n",
        "\n",
        "  # Run a loop for 8 times\n",
        "  for i in range(0,9):\n",
        "    #select a random key from the set\n",
        "    random_pair = []\n",
        "\n",
        "    while True:\n",
        "      random_key = random.choice(list(set1_combined.keys()))\n",
        "      if random_key not in random_keys:\n",
        "        random_keys.add(random_key)\n",
        "        random_pair.append(set1_combined[random_key])\n",
        "        break\n",
        "\n",
        "    while True:\n",
        "      random_key = random.choice(list(set2_combined.keys()))\n",
        "      if random_key not in random_keys:\n",
        "        random_keys.add(random_key)\n",
        "        random_pair.append(set2_combined[random_key])\n",
        "        break\n",
        "\n",
        "    labels.append(0) #because the two sequences are from two different people\n",
        "    pairs.append(random_pair)\n",
        "\n",
        "  set1_keys = set(set1_combined.keys())\n",
        "  remaining_keys = set1_keys.difference(random_keys)\n",
        "\n",
        "  for i in range(len(pairs), len(set1_combined)):\n",
        "    true_pair = []\n",
        "    for i in remaining_keys:\n",
        "      if len(true_pair) < 2:\n",
        "        true_pair.append(set1_combined[i])\n",
        "      else:\n",
        "        pairs.append(true_pair)\n",
        "        labels.append(1)\n",
        "        break\n",
        "\n",
        "  print(len(pairs))\n",
        "  print(labels)\n",
        "  return pairs, labels\n",
        "\n",
        "pairs, labels = create_pairs()\n"
      ],
      "metadata": {
        "colab": {
          "base_uri": "https://localhost:8080/"
        },
        "id": "wa54bjsZemGC",
        "outputId": "25355826-b79c-4a19-eec7-ac1b91269a70"
      },
      "execution_count": 8,
      "outputs": [
        {
          "output_type": "stream",
          "name": "stdout",
          "text": [
            "17\n",
            "[0, 0, 0, 0, 0, 0, 0, 0, 0, 1, 1, 1, 1, 1, 1, 1, 1]\n"
          ]
        }
      ]
    },
    {
      "cell_type": "code",
      "source": [
        "from sklearn.model_selection import train_test_split\n",
        "\n",
        "# Shuffle pairs and labels, so that the model does not lean any patterns\n",
        "# Combine pairs and labels\n",
        "combined_data = list(zip(pairs, labels))\n",
        "\n",
        "# Shuffle the combined data\n",
        "random.shuffle(combined_data)\n",
        "\n",
        "# Unpack the shuffled data back into pairs and labels\n",
        "shuffled_pairs, shuffled_labels = zip(*combined_data)\n",
        "\n",
        "train_sequences, val_sequences, train_labels, val_labels = train_test_split(shuffled_pairs, shuffled_labels, test_size=0.2, random_state=42)\n",
        "\n",
        "print(\"Number of training data sets: \", len(train_sequences))\n",
        "print(\"Each set has an array of length: \", len(train_sequences[0]))\n",
        "print(\"One of those two elements in the array contain\", len(train_sequences[0][0]), \"data points (20hz polling rate, 10 seconds of data).\")\n",
        "print(\"Each data point has\", len(train_sequences[0][0][0]), \"elements. 3 accelerometer values and 3 gyroscope values\")\n",
        "\n",
        "train_pairs = np.array(train_sequences)\n",
        "val_pairs = np.array(val_sequences)\n",
        "\n",
        "train_labels = np.array(train_labels)\n",
        "print(train_labels)\n",
        "val_labels = np.array(val_labels)\n",
        "\n",
        "print(train_labels.shape)"
      ],
      "metadata": {
        "colab": {
          "base_uri": "https://localhost:8080/"
        },
        "id": "e_UW91uIPxRG",
        "outputId": "3376f7b5-6c38-4b22-e3d0-a9fd219e25a5"
      },
      "execution_count": 9,
      "outputs": [
        {
          "output_type": "stream",
          "name": "stdout",
          "text": [
            "Number of training data sets:  13\n",
            "Each set has an array of length:  2\n",
            "One of those two elements in the array contain 200 data points (20hz polling rate, 10 seconds of data).\n",
            "Each data point has 6 elements. 3 accelerometer values and 3 gyroscope values\n",
            "[0 0 0 0 0 1 1 1 1 1 1 1 0]\n",
            "(13,)\n"
          ]
        }
      ]
    },
    {
      "cell_type": "markdown",
      "source": [
        "Creating pairs of data for the Simaese network. Ideally the data should look something like this.\n",
        "\n",
        "Each subject has 17 10-second data instances. The last element in the 2D-Array indicates weather the data is from the same person or not.\n",
        "\n",
        "1 = Same person\n",
        "0 = Different people\n",
        "\n",
        "> [Timestamp] : [[accX, accY, accZ], [gyroX, gyroY, gyroZ], [1]]\n",
        "\n",
        "> [Timestamp] : [[accX, accY, accZ], [gyroX, gyroY, gyroZ], [0]]\n",
        "\n",
        "\n",
        "\n",
        "\n"
      ],
      "metadata": {
        "id": "IHLeCIqTs8zf"
      }
    },
    {
      "cell_type": "markdown",
      "source": [
        "3 Types of Models will be Evaluated for this research.\n",
        "\n",
        "1.   LSTM (With Bi-Directional Layers),\n",
        "2.   1D CNN\n",
        "3.   ConvLSTM\n",
        "\n",
        "Each Model will be evaluated using 2 Loss functions.\n",
        "\n",
        "*   Bianry Cross-Entropy\n",
        "*   Contrastive Loss\n",
        "\n",
        "\n"
      ],
      "metadata": {
        "id": "qAr6jPpwLTIs"
      }
    },
    {
      "cell_type": "markdown",
      "source": [
        "# LSTM Model with Binary Cross-Entropy"
      ],
      "metadata": {
        "id": "VOp4fmx_l8CZ"
      }
    },
    {
      "cell_type": "code",
      "source": [
        "import tensorflow as tf\n",
        "from tensorflow.keras import layers, models\n",
        "\n",
        "# Define the Siamese model for sequence data\n",
        "def create_siamese_network(input_shape):\n",
        "    # Define the base LSTM network (twin network)\n",
        "    base_network = models.Sequential([\n",
        "        layers.LSTM(512, input_shape=input_shape, return_sequences=True),\n",
        "        layers.Dropout(0.2),\n",
        "        layers.LSTM(256, return_sequences=True),\n",
        "        layers.LSTM(128),\n",
        "        layers.Dense(128),\n",
        "        layers.Dropout(0.2),\n",
        "        layers.Dense(64, activation='relu')\n",
        "    ])\n",
        "\n",
        "    # Inputs for two sequences of accelerometer and gyroscope data\n",
        "    input_a = tf.keras.Input(shape=input_shape)\n",
        "    input_b = tf.keras.Input(shape=input_shape)\n",
        "\n",
        "    # Process each sequence through the twin network\n",
        "    processed_a = base_network(input_a)\n",
        "    processed_b = base_network(input_b)\n",
        "\n",
        "    cosine_sim = tf.keras.layers.Dot(axes=1, normalize=True)([processed_a, processed_b])\n",
        "\n",
        "    # Output layer for similarity prediction\n",
        "    output = layers.Dense(1, activation='sigmoid')(cosine_sim)\n",
        "\n",
        "    # Siamese model\n",
        "    siamese_model = tf.keras.Model(inputs=[input_a, input_b], outputs=output)\n",
        "    return siamese_model\n",
        "\n",
        "# Define input shape (adjust based on your sequence length and sensor data)\n",
        "input_shape = (200, 6)  # Replace with your input shape\n",
        "siamese_network = create_siamese_network(input_shape)\n",
        "\n",
        "# Compile the model\n",
        "siamese_network.compile(optimizer='adam', loss='binary_crossentropy', metrics=['accuracy'])\n",
        "\n",
        "# Print model summary\n",
        "siamese_network.summary()"
      ],
      "metadata": {
        "colab": {
          "base_uri": "https://localhost:8080/"
        },
        "id": "c60G5lQYyfzC",
        "outputId": "31f9013d-64d7-4dbc-a024-5b2ea26571d3"
      },
      "execution_count": null,
      "outputs": [
        {
          "output_type": "stream",
          "name": "stdout",
          "text": [
            "Model: \"model_2\"\n",
            "__________________________________________________________________________________________________\n",
            " Layer (type)                Output Shape                 Param #   Connected to                  \n",
            "==================================================================================================\n",
            " input_5 (InputLayer)        [(None, 200, 6)]             0         []                            \n",
            "                                                                                                  \n",
            " input_6 (InputLayer)        [(None, 200, 6)]             0         []                            \n",
            "                                                                                                  \n",
            " sequential_3 (Sequential)   (None, 64)                   2072256   ['input_5[0][0]',             \n",
            "                                                                     'input_6[0][0]']             \n",
            "                                                                                                  \n",
            " dot_2 (Dot)                 (None, 1)                    0         ['sequential_3[0][0]',        \n",
            "                                                                     'sequential_3[1][0]']        \n",
            "                                                                                                  \n",
            " dense_7 (Dense)             (None, 1)                    2         ['dot_2[0][0]']               \n",
            "                                                                                                  \n",
            "==================================================================================================\n",
            "Total params: 2072258 (7.91 MB)\n",
            "Trainable params: 2072258 (7.91 MB)\n",
            "Non-trainable params: 0 (0.00 Byte)\n",
            "__________________________________________________________________________________________________\n"
          ]
        }
      ]
    },
    {
      "cell_type": "code",
      "source": [
        "# Train the model.\n",
        "history = siamese_network.fit(\n",
        "    [train_pairs[:, 0], train_pairs[:, 1]],  # Training pairs\n",
        "    train_labels,  # Training labels\n",
        "    epochs=10,  # Number of epochs\n",
        "    batch_size=64,  # Batch size\n",
        "    validation_data=([val_pairs[:, 0], val_pairs[:, 1]], val_labels)  # Validation data\n",
        ")\n"
      ],
      "metadata": {
        "colab": {
          "base_uri": "https://localhost:8080/"
        },
        "id": "BXgT5Ioe_Ckc",
        "outputId": "63c273c6-171b-4275-ed7b-e1732fe7c093"
      },
      "execution_count": null,
      "outputs": [
        {
          "output_type": "stream",
          "name": "stdout",
          "text": [
            "Epoch 1/10\n",
            "1/1 [==============================] - 21s 21s/step - loss: 0.7968 - accuracy: 0.4615 - val_loss: 0.4514 - val_accuracy: 0.7500\n",
            "Epoch 2/10\n",
            "1/1 [==============================] - 6s 6s/step - loss: 0.6246 - accuracy: 0.4615 - val_loss: 0.4190 - val_accuracy: 0.7500\n",
            "Epoch 3/10\n",
            "1/1 [==============================] - 5s 5s/step - loss: 0.5174 - accuracy: 0.5385 - val_loss: 0.4244 - val_accuracy: 1.0000\n",
            "Epoch 4/10\n",
            "1/1 [==============================] - 7s 7s/step - loss: 0.4941 - accuracy: 0.7692 - val_loss: 0.5104 - val_accuracy: 1.0000\n",
            "Epoch 5/10\n",
            "1/1 [==============================] - 5s 5s/step - loss: 0.4932 - accuracy: 0.7692 - val_loss: 0.4709 - val_accuracy: 0.7500\n",
            "Epoch 6/10\n",
            "1/1 [==============================] - 5s 5s/step - loss: 0.4893 - accuracy: 0.6923 - val_loss: 0.4637 - val_accuracy: 0.7500\n",
            "Epoch 7/10\n",
            "1/1 [==============================] - 7s 7s/step - loss: 0.4884 - accuracy: 0.8462 - val_loss: 0.4633 - val_accuracy: 0.7500\n",
            "Epoch 8/10\n",
            "1/1 [==============================] - 5s 5s/step - loss: 0.4867 - accuracy: 0.7692 - val_loss: 0.4633 - val_accuracy: 0.7500\n",
            "Epoch 9/10\n",
            "1/1 [==============================] - 7s 7s/step - loss: 0.4849 - accuracy: 1.0000 - val_loss: 0.4633 - val_accuracy: 0.7500\n",
            "Epoch 10/10\n",
            "1/1 [==============================] - 5s 5s/step - loss: 0.4845 - accuracy: 1.0000 - val_loss: 0.4633 - val_accuracy: 0.7500\n"
          ]
        }
      ]
    },
    {
      "cell_type": "code",
      "source": [
        "# Evaluate the LSTM model\n",
        "import matplotlib.pyplot as plt\n",
        "\n",
        "# Assuming history contains training and validation metrics\n",
        "\n",
        "# Plot training & validation accuracy values\n",
        "plt.plot(history.history['accuracy'])\n",
        "plt.plot(history.history['val_accuracy'])\n",
        "plt.title('Model accuracy')\n",
        "plt.xlabel('Epoch')\n",
        "plt.ylabel('Accuracy')\n",
        "plt.legend(['Train', 'Validation'], loc='upper left')\n",
        "plt.show()\n",
        "\n",
        "# Plot training & validation loss values\n",
        "plt.plot(history.history['loss'])\n",
        "plt.plot(history.history['val_loss'])\n",
        "plt.title('Model loss')\n",
        "plt.xlabel('Epoch')\n",
        "plt.ylabel('Loss')\n",
        "plt.legend(['Train', 'Validation'], loc='upper left')\n",
        "plt.show()"
      ],
      "metadata": {
        "colab": {
          "base_uri": "https://localhost:8080/",
          "height": 927
        },
        "id": "NG0lKs0HGn34",
        "outputId": "7d2c28b9-aca2-41ea-c6d6-f2c1c0423586"
      },
      "execution_count": null,
      "outputs": [
        {
          "output_type": "display_data",
          "data": {
            "text/plain": [
              "<Figure size 640x480 with 1 Axes>"
            ],
            "image/png": "[encoded data removed]"
          },
          "metadata": {}
        },
        {
          "output_type": "display_data",
          "data": {
            "text/plain": [
              "<Figure size 640x480 with 1 Axes>"
            ],
            "image/png": "[encoded data removed]"
          },
          "metadata": {}
        }
      ]
    },
    {
      "cell_type": "markdown",
      "source": [
        "# LSTM Model with Contrastive Loss"
      ],
      "metadata": {
        "id": "bE3rqqszmELl"
      }
    },
    {
      "cell_type": "code",
      "source": [
        "import tensorflow as tf\n",
        "from tensorflow.keras import layers, models\n",
        "\n",
        "''' A Contrastive Loss funtion provided by Keras (https://keras.io/examples/vision/siamese_contrastive/#define-the-contrastive-loss)'''\n",
        "\n",
        "def loss(margin=1):\n",
        "    \"\"\"Provides 'contrastive_loss' an enclosing scope with variable 'margin'.\n",
        "\n",
        "    Arguments:\n",
        "        margin: Integer, defines the baseline for distance for which pairs\n",
        "                should be classified as dissimilar. - (default is 1).\n",
        "\n",
        "    Returns:\n",
        "        'contrastive_loss' function with data ('margin') attached.\n",
        "    \"\"\"\n",
        "\n",
        "    # Contrastive loss = mean( (1-true_value) * square(prediction) +\n",
        "    #                         true_value * square( max(margin-prediction, 0) ))\n",
        "    def contrastive_loss(y_true, y_pred):\n",
        "        \"\"\"Calculates the contrastive loss.\n",
        "\n",
        "        Arguments:\n",
        "            y_true: List of labels, each label is of type float32.\n",
        "            y_pred: List of predictions of same length as of y_true,\n",
        "                    each label is of type float32.\n",
        "\n",
        "        Returns:\n",
        "            A tensor containing contrastive loss as floating point value.\n",
        "        \"\"\"\n",
        "\n",
        "        square_pred = tf.square(y_pred)\n",
        "        margin_square = tf.square(tf.maximum(margin - (y_pred), 0))\n",
        "        return tf.reduce_mean((1 - y_true) * square_pred + (y_true) * margin_square)\n",
        "\n",
        "    return contrastive_loss"
      ],
      "metadata": {
        "id": "jrytxfmnc-vp"
      },
      "execution_count": 43,
      "outputs": []
    },
    {
      "cell_type": "code",
      "source": [
        "def base_network(input_shape):\n",
        "    base_network = models.Sequential([\n",
        "        layers.Bidirectional(layers.LSTM(512, input_shape=input_shape, return_sequences=True)),\n",
        "        layers.Dropout(0.2),\n",
        "        layers.LSTM(256, return_sequences=True),\n",
        "        layers.LSTM(128),\n",
        "        layers.Dropout(0.2),\n",
        "        layers.Dense(64, activation='relu')\n",
        "    ])\n",
        "\n",
        "    input_a = tf.keras.Input(shape=input_shape)\n",
        "    input_b = tf.keras.Input(shape=input_shape)\n",
        "\n",
        "    processed_a = base_network(input_a)\n",
        "    processed_b = base_network(input_b)\n",
        "\n",
        "    # Calculating the cosine similarity between the embeddings\n",
        "    cosine_sim = tf.keras.layers.Dot(axes=1, normalize=True)([processed_a, processed_b])\n",
        "    output = layers.Dense(1, activation='sigmoid')(cosine_sim)\n",
        "\n",
        "    model = tf.keras.Model(inputs=[input_a, input_b], outputs=output)\n",
        "    return model\n",
        "\n",
        "# Example usage\n",
        "input_shape = (200, 6)  # Specify input shape\n",
        "LSTM_Contrastive_SNN = base_network(input_shape)\n",
        "\n",
        "# Compile the model with contrastive loss\n",
        "LSTM_Contrastive_SNN.compile(optimizer='adam', loss=loss(margin=1), metrics=['accuracy'])"
      ],
      "metadata": {
        "id": "vgwHsre5PT_K"
      },
      "execution_count": 60,
      "outputs": []
    },
    {
      "cell_type": "code",
      "source": [
        "train_labels = tf.cast(train_labels, tf.float32)\n",
        "val_labels = tf.cast(val_labels, tf.float32)"
      ],
      "metadata": {
        "id": "SWTJ3Lhroz3M"
      },
      "execution_count": 58,
      "outputs": []
    },
    {
      "cell_type": "code",
      "source": [
        "# Train the model.\n",
        "history = LSTM_Contrastive_SNN.fit(\n",
        "    [train_pairs[:, 0], train_pairs[:, 1]],  # Training pairs\n",
        "    train_labels,  # Training labels\n",
        "    epochs = 50,  # Number of epochs\n",
        "    batch_size = 32,  # Batch size\n",
        "    validation_data = ([val_pairs[:, 0], val_pairs[:, 1]], val_labels),  # Validation data\n",
        "    callbacks = [tf.keras.callbacks.LambdaCallback(on_batch_begin=lambda batch,logs: tf.print(\"Batch\", batch))] # Print some logs per batch\n",
        ")"
      ],
      "metadata": {
        "colab": {
          "base_uri": "https://localhost:8080/"
        },
        "id": "ZofDL6rSPkem",
        "outputId": "61c338a6-a15a-4d2d-f066-85b4f0891630"
      },
      "execution_count": 59,
      "outputs": [
        {
          "output_type": "stream",
          "name": "stdout",
          "text": [
            "Epoch 1/10\n",
            "Batch 0\n",
            "1/1 [==============================] - 30s 30s/step - loss: 0.2653 - accuracy: 0.5385 - val_loss: 0.2805 - val_accuracy: 0.5000\n",
            "Epoch 2/10\n",
            "Batch 0\n",
            "1/1 [==============================] - 10s 10s/step - loss: 0.2635 - accuracy: 0.5385 - val_loss: 0.2798 - val_accuracy: 0.5000\n",
            "Epoch 3/10\n",
            "Batch 0\n",
            "1/1 [==============================] - 10s 10s/step - loss: 0.2516 - accuracy: 0.5385 - val_loss: 0.2792 - val_accuracy: 0.5000\n",
            "Epoch 4/10\n",
            "Batch 0\n",
            "1/1 [==============================] - 10s 10s/step - loss: 0.2519 - accuracy: 0.5385 - val_loss: 0.2782 - val_accuracy: 0.5000\n",
            "Epoch 5/10\n",
            "Batch 0\n",
            "1/1 [==============================] - 10s 10s/step - loss: 0.2532 - accuracy: 0.5385 - val_loss: 0.2729 - val_accuracy: 0.5000\n",
            "Epoch 6/10\n",
            "Batch 0\n",
            "1/1 [==============================] - 11s 11s/step - loss: 0.2468 - accuracy: 0.5385 - val_loss: 0.2648 - val_accuracy: 0.5000\n",
            "Epoch 7/10\n",
            "Batch 0\n",
            "1/1 [==============================] - 9s 9s/step - loss: 0.2475 - accuracy: 0.5385 - val_loss: 0.2667 - val_accuracy: 0.5000\n",
            "Epoch 8/10\n",
            "Batch 0\n",
            "1/1 [==============================] - 11s 11s/step - loss: 0.2418 - accuracy: 0.5385 - val_loss: 0.2957 - val_accuracy: 0.5000\n",
            "Epoch 9/10\n",
            "Batch 0\n",
            "1/1 [==============================] - 11s 11s/step - loss: 0.2518 - accuracy: 0.5385 - val_loss: 0.2819 - val_accuracy: 0.5000\n",
            "Epoch 10/10\n",
            "Batch 0\n",
            "1/1 [==============================] - 10s 10s/step - loss: 0.2572 - accuracy: 0.5385 - val_loss: 0.2802 - val_accuracy: 0.5000\n"
          ]
        }
      ]
    },
    {
      "cell_type": "markdown",
      "source": [
        "# 1D CNN with Binary Cross-Entropy"
      ],
      "metadata": {
        "id": "hRLxBY4WmJwz"
      }
    },
    {
      "cell_type": "code",
      "source": [
        "# Create the CNN model\n",
        "def create_cnn_siamese_network(input_shape):\n",
        "    # Define the base LSTM network (twin network)\n",
        "    base_network = models.Sequential([\n",
        "        layers.Conv1D(32, kernel_size=3, activation='relu', input_shape=input_shape),\n",
        "        layers.MaxPooling1D(pool_size=2),\n",
        "        layers.Conv1D(64, kernel_size=3, activation='relu'),\n",
        "        layers.MaxPooling1D(pool_size=2),\n",
        "        layers.Conv1D(128, kernel_size=3, activation='relu'),\n",
        "        layers.MaxPooling1D(pool_size=2),\n",
        "        layers.Flatten(),\n",
        "        #layers.Dense(256, activation='relu', kernel_regularizer=l2(0.01)),\n",
        "        layers.Dense(256, activation='relu'),\n",
        "        layers.Dropout(0.5)\n",
        "    ])\n",
        "\n",
        "    # Inputs for two sequences of accelerometer and gyroscope data\n",
        "    input_a = tf.keras.Input(shape=input_shape)\n",
        "    input_b = tf.keras.Input(shape=input_shape)\n",
        "\n",
        "    # Process each sequence through the twin network\n",
        "    processed_a = base_network(input_a)\n",
        "    processed_b = base_network(input_b)\n",
        "\n",
        "    # Calculate absolute difference between the processed outputs\n",
        "    distance = tf.keras.layers.Lambda(lambda x: tf.abs(x[0] - x[1]))([processed_a, processed_b])\n",
        "\n",
        "    # Output layer for similarity prediction\n",
        "    output = layers.Dense(1, activation='sigmoid')(distance)\n",
        "\n",
        "    # Siamese model\n",
        "    siamese_model = tf.keras.Model(inputs=[input_a, input_b], outputs=output)\n",
        "    return siamese_model\n",
        "\n",
        "# Define input shape (adjust based on your sequence length and sensor data)\n",
        "input_shape = (200, 6)  # Replace with your input shape\n",
        "cnn_siamese_network = create_cnn_siamese_network(input_shape)\n",
        "\n",
        "# Compile the model\n",
        "cnn_siamese_network.compile(optimizer='adam', loss='binary_crossentropy', metrics=['accuracy'])\n",
        "\n",
        "# Print model summary\n",
        "cnn_siamese_network.summary()"
      ],
      "metadata": {
        "id": "KYZkd7N6i0aU"
      },
      "execution_count": null,
      "outputs": []
    },
    {
      "cell_type": "code",
      "source": [
        "# Train the cnn model.\n",
        "cnn_history = cnn_siamese_network.fit(\n",
        "    [train_pairs[:, 0], train_pairs[:, 1]],  # Training pairs\n",
        "    train_labels,  # Training labels\n",
        "    epochs=30,  # Number of epochs\n",
        "    batch_size=32,  # Batch size\n",
        "    validation_data=([val_pairs[:, 0], val_pairs[:, 1]], val_labels)  # Validation data\n",
        ")"
      ],
      "metadata": {
        "colab": {
          "base_uri": "https://localhost:8080/"
        },
        "id": "OF2Lh1zL2DbL",
        "outputId": "f2bdd88d-6a83-4700-9346-3fd14bfd4955"
      },
      "execution_count": null,
      "outputs": [
        {
          "output_type": "stream",
          "name": "stdout",
          "text": [
            "Epoch 1/30\n",
            "1/1 [==============================] - 2s 2s/step - loss: 1.1328 - accuracy: 0.4615 - val_loss: 0.7427 - val_accuracy: 0.2500\n",
            "Epoch 2/30\n",
            "1/1 [==============================] - 0s 99ms/step - loss: 0.9888 - accuracy: 0.5385 - val_loss: 0.5847 - val_accuracy: 1.0000\n",
            "Epoch 3/30\n",
            "1/1 [==============================] - 0s 91ms/step - loss: 0.6897 - accuracy: 0.6154 - val_loss: 0.5271 - val_accuracy: 1.0000\n",
            "Epoch 4/30\n",
            "1/1 [==============================] - 0s 85ms/step - loss: 0.6464 - accuracy: 0.6154 - val_loss: 0.5526 - val_accuracy: 1.0000\n",
            "Epoch 5/30\n",
            "1/1 [==============================] - 0s 93ms/step - loss: 0.3921 - accuracy: 0.8462 - val_loss: 0.5374 - val_accuracy: 1.0000\n",
            "Epoch 6/30\n",
            "1/1 [==============================] - 0s 86ms/step - loss: 0.4168 - accuracy: 0.7692 - val_loss: 0.5178 - val_accuracy: 1.0000\n",
            "Epoch 7/30\n",
            "1/1 [==============================] - 0s 96ms/step - loss: 0.4053 - accuracy: 0.7692 - val_loss: 0.4823 - val_accuracy: 1.0000\n",
            "Epoch 8/30\n",
            "1/1 [==============================] - 0s 77ms/step - loss: 0.1710 - accuracy: 1.0000 - val_loss: 0.4340 - val_accuracy: 1.0000\n",
            "Epoch 9/30\n",
            "1/1 [==============================] - 0s 94ms/step - loss: 0.2757 - accuracy: 0.9231 - val_loss: 0.4016 - val_accuracy: 1.0000\n",
            "Epoch 10/30\n",
            "1/1 [==============================] - 0s 74ms/step - loss: 0.1979 - accuracy: 0.9231 - val_loss: 0.3887 - val_accuracy: 1.0000\n",
            "Epoch 11/30\n",
            "1/1 [==============================] - 0s 98ms/step - loss: 0.2114 - accuracy: 1.0000 - val_loss: 0.3971 - val_accuracy: 1.0000\n",
            "Epoch 12/30\n",
            "1/1 [==============================] - 0s 89ms/step - loss: 0.1905 - accuracy: 0.9231 - val_loss: 0.3856 - val_accuracy: 1.0000\n",
            "Epoch 13/30\n",
            "1/1 [==============================] - 0s 97ms/step - loss: 0.2785 - accuracy: 0.9231 - val_loss: 0.3522 - val_accuracy: 1.0000\n",
            "Epoch 14/30\n",
            "1/1 [==============================] - 0s 93ms/step - loss: 0.0915 - accuracy: 1.0000 - val_loss: 0.3120 - val_accuracy: 1.0000\n",
            "Epoch 15/30\n",
            "1/1 [==============================] - 0s 86ms/step - loss: 0.0796 - accuracy: 1.0000 - val_loss: 0.2705 - val_accuracy: 1.0000\n",
            "Epoch 16/30\n",
            "1/1 [==============================] - 0s 73ms/step - loss: 0.1151 - accuracy: 0.9231 - val_loss: 0.2416 - val_accuracy: 1.0000\n",
            "Epoch 17/30\n",
            "1/1 [==============================] - 0s 91ms/step - loss: 0.0568 - accuracy: 1.0000 - val_loss: 0.2165 - val_accuracy: 1.0000\n",
            "Epoch 18/30\n",
            "1/1 [==============================] - 0s 90ms/step - loss: 0.0345 - accuracy: 1.0000 - val_loss: 0.1962 - val_accuracy: 1.0000\n",
            "Epoch 19/30\n",
            "1/1 [==============================] - 0s 69ms/step - loss: 0.0456 - accuracy: 1.0000 - val_loss: 0.1761 - val_accuracy: 1.0000\n",
            "Epoch 20/30\n",
            "1/1 [==============================] - 0s 72ms/step - loss: 0.0617 - accuracy: 1.0000 - val_loss: 0.1645 - val_accuracy: 1.0000\n",
            "Epoch 21/30\n",
            "1/1 [==============================] - 0s 77ms/step - loss: 0.0323 - accuracy: 1.0000 - val_loss: 0.1549 - val_accuracy: 1.0000\n",
            "Epoch 22/30\n",
            "1/1 [==============================] - 0s 70ms/step - loss: 0.0216 - accuracy: 1.0000 - val_loss: 0.1503 - val_accuracy: 1.0000\n",
            "Epoch 23/30\n",
            "1/1 [==============================] - 0s 78ms/step - loss: 0.0304 - accuracy: 1.0000 - val_loss: 0.1434 - val_accuracy: 1.0000\n",
            "Epoch 24/30\n",
            "1/1 [==============================] - 0s 88ms/step - loss: 0.0112 - accuracy: 1.0000 - val_loss: 0.1388 - val_accuracy: 1.0000\n",
            "Epoch 25/30\n",
            "1/1 [==============================] - 0s 91ms/step - loss: 0.0200 - accuracy: 1.0000 - val_loss: 0.1376 - val_accuracy: 1.0000\n",
            "Epoch 26/30\n",
            "1/1 [==============================] - 0s 96ms/step - loss: 0.0131 - accuracy: 1.0000 - val_loss: 0.1313 - val_accuracy: 1.0000\n",
            "Epoch 27/30\n",
            "1/1 [==============================] - 0s 92ms/step - loss: 0.0184 - accuracy: 1.0000 - val_loss: 0.1274 - val_accuracy: 1.0000\n",
            "Epoch 28/30\n",
            "1/1 [==============================] - 0s 81ms/step - loss: 0.0121 - accuracy: 1.0000 - val_loss: 0.1221 - val_accuracy: 1.0000\n",
            "Epoch 29/30\n",
            "1/1 [==============================] - 0s 86ms/step - loss: 0.0075 - accuracy: 1.0000 - val_loss: 0.1188 - val_accuracy: 1.0000\n",
            "Epoch 30/30\n",
            "1/1 [==============================] - 0s 71ms/step - loss: 0.0093 - accuracy: 1.0000 - val_loss: 0.1144 - val_accuracy: 1.0000\n"
          ]
        }
      ]
    },
    {
      "cell_type": "code",
      "source": [
        "# Plot training & validation accuracy values\n",
        "plt.plot(cnn_history.history['accuracy'])\n",
        "plt.plot(cnn_history.history['val_accuracy'])\n",
        "plt.title('Model accuracy')\n",
        "plt.xlabel('Epoch')\n",
        "plt.ylabel('Accuracy')\n",
        "plt.legend(['Train', 'Validation'], loc='upper left')\n",
        "plt.show()\n",
        "\n",
        "# Plot training & validation loss values\n",
        "plt.plot(cnn_history.history['loss'])\n",
        "plt.plot(cnn_history.history['val_loss'])\n",
        "plt.title('Model loss')\n",
        "plt.xlabel('Epoch')\n",
        "plt.ylabel('Loss')\n",
        "plt.legend(['Train', 'Validation'], loc='upper left')\n",
        "plt.show()"
      ],
      "metadata": {
        "colab": {
          "base_uri": "https://localhost:8080/",
          "height": 245
        },
        "id": "JPKzNHSpGcgO",
        "outputId": "33af4da2-86c6-40df-9f6a-c3a2def91918"
      },
      "execution_count": null,
      "outputs": [
        {
          "output_type": "error",
          "ename": "NameError",
          "evalue": "name 'plt' is not defined",
          "traceback": [
            "\u001b[0;31m---------------------------------------------------------------------------\u001b[0m",
            "\u001b[0;31mNameError\u001b[0m                                 Traceback (most recent call last)",
            "\u001b[0;32m<ipython-input-1-60cb6daaa88c>\u001b[0m in \u001b[0;36m<cell line: 2>\u001b[0;34m()\u001b[0m\n\u001b[1;32m      1\u001b[0m \u001b[0;31m# Plot training & validation accuracy values\u001b[0m\u001b[0;34m\u001b[0m\u001b[0;34m\u001b[0m\u001b[0m\n\u001b[0;32m----> 2\u001b[0;31m \u001b[0mplt\u001b[0m\u001b[0;34m.\u001b[0m\u001b[0mplot\u001b[0m\u001b[0;34m(\u001b[0m\u001b[0mcnn_history\u001b[0m\u001b[0;34m.\u001b[0m\u001b[0mhistory\u001b[0m\u001b[0;34m[\u001b[0m\u001b[0;34m'accuracy'\u001b[0m\u001b[0;34m]\u001b[0m\u001b[0;34m)\u001b[0m\u001b[0;34m\u001b[0m\u001b[0;34m\u001b[0m\u001b[0m\n\u001b[0m\u001b[1;32m      3\u001b[0m \u001b[0mplt\u001b[0m\u001b[0;34m.\u001b[0m\u001b[0mplot\u001b[0m\u001b[0;34m(\u001b[0m\u001b[0mcnn_history\u001b[0m\u001b[0;34m.\u001b[0m\u001b[0mhistory\u001b[0m\u001b[0;34m[\u001b[0m\u001b[0;34m'val_accuracy'\u001b[0m\u001b[0;34m]\u001b[0m\u001b[0;34m)\u001b[0m\u001b[0;34m\u001b[0m\u001b[0;34m\u001b[0m\u001b[0m\n\u001b[1;32m      4\u001b[0m \u001b[0mplt\u001b[0m\u001b[0;34m.\u001b[0m\u001b[0mtitle\u001b[0m\u001b[0;34m(\u001b[0m\u001b[0;34m'Model accuracy'\u001b[0m\u001b[0;34m)\u001b[0m\u001b[0;34m\u001b[0m\u001b[0;34m\u001b[0m\u001b[0m\n\u001b[1;32m      5\u001b[0m \u001b[0mplt\u001b[0m\u001b[0;34m.\u001b[0m\u001b[0mxlabel\u001b[0m\u001b[0;34m(\u001b[0m\u001b[0;34m'Epoch'\u001b[0m\u001b[0;34m)\u001b[0m\u001b[0;34m\u001b[0m\u001b[0;34m\u001b[0m\u001b[0m\n",
            "\u001b[0;31mNameError\u001b[0m: name 'plt' is not defined"
          ]
        }
      ]
    },
    {
      "cell_type": "markdown",
      "source": [
        "# 1D CNN with Contrastive loss"
      ],
      "metadata": {
        "id": "N-7AR61NmZl6"
      }
    },
    {
      "cell_type": "code",
      "source": [
        "# Create the CNN model\n",
        "def contrastive_loss(y_true, y_pred, margin=1):\n",
        "    # y_true: true labels (0 for dissimilar pairs, 1 for similar pairs)\n",
        "    # y_pred: predicted similarity scores (cosine similarity)\n",
        "\n",
        "    y_true = tf.cast(y_true, tf.float32)  # Cast y_true to float32\n",
        "\n",
        "    square_pred = tf.square(1 - y_pred)\n",
        "    margin_square = tf.square(tf.maximum(margin - y_pred, 0))\n",
        "\n",
        "    return tf.reduce_mean(y_true * square_pred + (1 - y_true) * margin_square)\n",
        "\n",
        "def cnn_contrastive(input_shape):\n",
        "    # Define the base LSTM network (twin network)\n",
        "    base_network = models.Sequential([\n",
        "        layers.Conv1D(32, kernel_size=3, activation='relu', input_shape=input_shape),\n",
        "        layers.MaxPooling1D(pool_size=2),\n",
        "        layers.Conv1D(64, kernel_size=3, activation='relu'),\n",
        "        layers.MaxPooling1D(pool_size=2),\n",
        "        layers.Conv1D(128, kernel_size=3, activation='relu'),\n",
        "        layers.MaxPooling1D(pool_size=2),\n",
        "        layers.Flatten(),\n",
        "        #layers.Dense(256, activation='relu', kernel_regularizer=l2(0.01)),\n",
        "        layers.Dense(256, activation='relu'),\n",
        "        layers.Dropout(0.5)\n",
        "    ])\n",
        "\n",
        "    # Inputs for two sequences of accelerometer and gyroscope data\n",
        "    input_a = tf.keras.Input(shape=input_shape)\n",
        "    input_b = tf.keras.Input(shape=input_shape)\n",
        "\n",
        "    # Process each sequence through the twin network\n",
        "    processed_a = base_network(input_a)\n",
        "    processed_b = base_network(input_b)\n",
        "\n",
        "    # Compute cosine similarity\n",
        "    cosine_sim = tf.keras.layers.Dot(axes=1, normalize=True)([processed_a, processed_b])\n",
        "\n",
        "    # Siamese model\n",
        "    siamese_model = tf.keras.Model(inputs=[input_a, input_b], outputs=cosine_sim)\n",
        "    return siamese_model\n",
        "\n",
        "# Define input shape (adjust based on your sequence length and sensor data)\n",
        "input_shape = (200, 6)  # Replace with your input shape\n",
        "cnn_snn = cnn_contrastive(input_shape)\n",
        "\n",
        "# Compile the model\n",
        "cnn_snn.compile(optimizer='adam', loss=contrastive_loss)\n",
        "\n",
        "# Print model summary\n",
        "cnn_snn.summary()"
      ],
      "metadata": {
        "colab": {
          "base_uri": "https://localhost:8080/"
        },
        "id": "ymzNnjFNU8aE",
        "outputId": "18fd3aba-1791-4074-d3c6-2b66d05dcec6"
      },
      "execution_count": null,
      "outputs": [
        {
          "output_type": "stream",
          "name": "stdout",
          "text": [
            "Model: \"model_3\"\n",
            "__________________________________________________________________________________________________\n",
            " Layer (type)                Output Shape                 Param #   Connected to                  \n",
            "==================================================================================================\n",
            " input_7 (InputLayer)        [(None, 200, 6)]             0         []                            \n",
            "                                                                                                  \n",
            " input_8 (InputLayer)        [(None, 200, 6)]             0         []                            \n",
            "                                                                                                  \n",
            " sequential_3 (Sequential)   (None, 256)                  785440    ['input_7[0][0]',             \n",
            "                                                                     'input_8[0][0]']             \n",
            "                                                                                                  \n",
            " dot_2 (Dot)                 (None, 1)                    0         ['sequential_3[0][0]',        \n",
            "                                                                     'sequential_3[1][0]']        \n",
            "                                                                                                  \n",
            "==================================================================================================\n",
            "Total params: 785440 (3.00 MB)\n",
            "Trainable params: 785440 (3.00 MB)\n",
            "Non-trainable params: 0 (0.00 Byte)\n",
            "__________________________________________________________________________________________________\n"
          ]
        }
      ]
    },
    {
      "cell_type": "code",
      "source": [
        "# Train the cnn model.\n",
        "cnn_history = cnn_snn.fit(\n",
        "    [train_pairs[:, 0], train_pairs[:, 1]],  # Training pairs\n",
        "    train_labels,  # Training labels\n",
        "    epochs=30,  # Number of epochs\n",
        "    batch_size=32,  # Batch size\n",
        "    validation_data=([val_pairs[:, 0], val_pairs[:, 1]], val_labels)  # Validation data\n",
        ")"
      ],
      "metadata": {
        "colab": {
          "base_uri": "https://localhost:8080/"
        },
        "id": "YmRlb-CDU9RM",
        "outputId": "7b9eaccc-68b8-45d7-e171-b16b08a8d972"
      },
      "execution_count": null,
      "outputs": [
        {
          "output_type": "stream",
          "name": "stdout",
          "text": [
            "Epoch 1/30\n",
            "1/1 [==============================] - 2s 2s/step - loss: 0.3427 - val_loss: 9.9131e-04\n",
            "Epoch 2/30\n",
            "1/1 [==============================] - 0s 74ms/step - loss: 0.2647 - val_loss: 1.8794e-04\n",
            "Epoch 3/30\n",
            "1/1 [==============================] - 0s 81ms/step - loss: 0.3315 - val_loss: 7.8324e-05\n",
            "Epoch 4/30\n",
            "1/1 [==============================] - 0s 275ms/step - loss: 0.2905 - val_loss: 3.7706e-05\n",
            "Epoch 5/30\n",
            "1/1 [==============================] - 0s 259ms/step - loss: 0.2353 - val_loss: 2.1629e-05\n",
            "Epoch 6/30\n",
            "1/1 [==============================] - 0s 155ms/step - loss: 0.3136 - val_loss: 1.2957e-05\n",
            "Epoch 7/30\n",
            "1/1 [==============================] - 0s 163ms/step - loss: 0.2877 - val_loss: 8.3475e-06\n",
            "Epoch 8/30\n",
            "1/1 [==============================] - 0s 77ms/step - loss: 0.2371 - val_loss: 5.9818e-06\n",
            "Epoch 9/30\n",
            "1/1 [==============================] - 0s 75ms/step - loss: 0.2970 - val_loss: 4.5171e-06\n",
            "Epoch 10/30\n",
            "1/1 [==============================] - 0s 69ms/step - loss: 0.2499 - val_loss: 3.5778e-06\n",
            "Epoch 11/30\n",
            "1/1 [==============================] - 0s 73ms/step - loss: 0.2740 - val_loss: 2.9255e-06\n",
            "Epoch 12/30\n",
            "1/1 [==============================] - 0s 70ms/step - loss: 0.2208 - val_loss: 2.4713e-06\n",
            "Epoch 13/30\n",
            "1/1 [==============================] - 0s 68ms/step - loss: 0.2559 - val_loss: 2.1348e-06\n",
            "Epoch 14/30\n",
            "1/1 [==============================] - 0s 85ms/step - loss: 0.2495 - val_loss: 1.8638e-06\n",
            "Epoch 15/30\n",
            "1/1 [==============================] - 0s 72ms/step - loss: 0.3043 - val_loss: 1.6467e-06\n",
            "Epoch 16/30\n",
            "1/1 [==============================] - 0s 73ms/step - loss: 0.2183 - val_loss: 1.4512e-06\n",
            "Epoch 17/30\n",
            "1/1 [==============================] - 0s 72ms/step - loss: 0.3045 - val_loss: 1.2918e-06\n",
            "Epoch 18/30\n",
            "1/1 [==============================] - 0s 70ms/step - loss: 0.2196 - val_loss: 1.1506e-06\n",
            "Epoch 19/30\n",
            "1/1 [==============================] - 0s 72ms/step - loss: 0.2289 - val_loss: 1.0057e-06\n",
            "Epoch 20/30\n",
            "1/1 [==============================] - 0s 91ms/step - loss: 0.2151 - val_loss: 8.8999e-07\n",
            "Epoch 21/30\n",
            "1/1 [==============================] - 0s 73ms/step - loss: 0.2323 - val_loss: 8.0194e-07\n",
            "Epoch 22/30\n",
            "1/1 [==============================] - 0s 70ms/step - loss: 0.2940 - val_loss: 7.1936e-07\n",
            "Epoch 23/30\n",
            "1/1 [==============================] - 0s 70ms/step - loss: 0.2686 - val_loss: 6.4412e-07\n",
            "Epoch 24/30\n",
            "1/1 [==============================] - 0s 76ms/step - loss: 0.2676 - val_loss: 5.8061e-07\n",
            "Epoch 25/30\n",
            "1/1 [==============================] - 0s 75ms/step - loss: 0.2490 - val_loss: 5.2653e-07\n",
            "Epoch 26/30\n",
            "1/1 [==============================] - 0s 86ms/step - loss: 0.2602 - val_loss: 4.8426e-07\n",
            "Epoch 27/30\n",
            "1/1 [==============================] - 0s 71ms/step - loss: 0.2758 - val_loss: 4.4572e-07\n",
            "Epoch 28/30\n",
            "1/1 [==============================] - 0s 71ms/step - loss: 0.2704 - val_loss: 4.0898e-07\n",
            "Epoch 29/30\n",
            "1/1 [==============================] - 0s 68ms/step - loss: 0.2567 - val_loss: 3.7503e-07\n",
            "Epoch 30/30\n",
            "1/1 [==============================] - 0s 74ms/step - loss: 0.2779 - val_loss: 3.4866e-07\n"
          ]
        }
      ]
    },
    {
      "cell_type": "markdown",
      "source": [
        "# Save and Export Model"
      ],
      "metadata": {
        "id": "X_qcRPicml9P"
      }
    },
    {
      "cell_type": "code",
      "source": [
        "# Save the entire model to a HDF5 file (including architecture, weights, and training configuration)\n",
        "siamese_network.save('siamese_model.tflite')"
      ],
      "metadata": {
        "id": "6z9LZEGoDFbU"
      },
      "execution_count": null,
      "outputs": []
    },
    {
      "cell_type": "code",
      "source": [
        "# Compress the folder\n",
        "#!zip -r /content/folder_name.zip /content/siamese_model.tflite\n",
        "\n",
        "# Generate a download link\n",
        "#from google.colab import files\n",
        "#files.download(\"/content/folder_name.zip\")"
      ],
      "metadata": {
        "colab": {
          "base_uri": "https://localhost:8080/",
          "height": 156
        },
        "id": "riHtBPBgRkpG",
        "outputId": "d7e96a23-82f9-416a-fba8-eea53ea617e9"
      },
      "execution_count": null,
      "outputs": [
        {
          "output_type": "stream",
          "name": "stdout",
          "text": [
            "  adding: content/siamese_model.tflite/ (stored 0%)\n",
            "  adding: content/siamese_model.tflite/variables/ (stored 0%)\n",
            "  adding: content/siamese_model.tflite/variables/variables.data-00000-of-00001 (deflated 7%)\n",
            "  adding: content/siamese_model.tflite/variables/variables.index (deflated 65%)\n",
            "  adding: content/siamese_model.tflite/saved_model.pb (deflated 90%)\n",
            "  adding: content/siamese_model.tflite/assets/ (stored 0%)\n",
            "  adding: content/siamese_model.tflite/fingerprint.pb (stored 0%)\n",
            "  adding: content/siamese_model.tflite/keras_metadata.pb (deflated 93%)\n"
          ]
        },
        {
          "output_type": "display_data",
          "data": {
            "text/plain": [
              "<IPython.core.display.Javascript object>"
            ],
            "application/javascript": [
              "\n",
              "    async function download(id, filename, size) {\n",
              "      if (!google.colab.kernel.accessAllowed) {\n",
              "        return;\n",
              "      }\n",
              "      const div = document.createElement('div');\n",
              "      const label = document.createElement('label');\n",
              "      label.textContent = `Downloading \"${filename}\": `;\n",
              "      div.appendChild(label);\n",
              "      const progress = document.createElement('progress');\n",
              "      progress.max = size;\n",
              "      div.appendChild(progress);\n",
              "      document.body.appendChild(div);\n",
              "\n",
              "      const buffers = [];\n",
              "      let downloaded = 0;\n",
              "\n",
              "      const channel = await google.colab.kernel.comms.open(id);\n",
              "      // Send a message to notify the kernel that we're ready.\n",
              "      channel.send({})\n",
              "\n",
              "      for await (const message of channel.messages) {\n",
              "        // Send a message to notify the kernel that we're ready.\n",
              "        channel.send({})\n",
              "        if (message.buffers) {\n",
              "          for (const buffer of message.buffers) {\n",
              "            buffers.push(buffer);\n",
              "            downloaded += buffer.byteLength;\n",
              "            progress.value = downloaded;\n",
              "          }\n",
              "        }\n",
              "      }\n",
              "      const blob = new Blob(buffers, {type: 'application/binary'});\n",
              "      const a = document.createElement('a');\n",
              "      a.href = window.URL.createObjectURL(blob);\n",
              "      a.download = filename;\n",
              "      div.appendChild(a);\n",
              "      a.click();\n",
              "      div.remove();\n",
              "    }\n",
              "  "
            ]
          },
          "metadata": {}
        },
        {
          "output_type": "display_data",
          "data": {
            "text/plain": [
              "<IPython.core.display.Javascript object>"
            ],
            "application/javascript": [
              "download(\"download_13744d7f-c611-43f8-8ef6-5d1828ba55fc\", \"folder_name.zip\", 5561738)"
            ]
          },
          "metadata": {}
        }
      ]
    }
  ]
}