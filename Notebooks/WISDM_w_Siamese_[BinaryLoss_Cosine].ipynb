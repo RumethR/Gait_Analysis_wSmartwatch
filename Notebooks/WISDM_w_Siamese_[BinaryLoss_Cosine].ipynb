{
  "cells": [
    {
      "cell_type": "markdown",
      "metadata": {
        "id": "wHNGf6tVp_pm"
      },
      "source": [
        "# Loading Pre-Processed Dataset"
      ]
    },
    {
      "cell_type": "code",
      "execution_count": null,
      "metadata": {
        "id": "R5FTbooYtt_I"
      },
      "outputs": [],
      "source": [
        "# Load the TensorBoard notebook extension\n",
        "%load_ext tensorboard"
      ]
    },
    {
      "cell_type": "code",
      "execution_count": null,
      "metadata": {
        "colab": {
          "base_uri": "https://localhost:8080/"
        },
        "id": "L0D2FLBhrifh",
        "outputId": "ead3c02a-065f-463f-a472-d6f7a2093760"
      },
      "outputs": [
        {
          "name": "stdout",
          "output_type": "stream",
          "text": [
            "Mounted at /content/drive/\n"
          ]
        }
      ],
      "source": [
        "from google.colab import drive\n",
        "drive.mount('/content/drive/')"
      ]
    },
    {
      "cell_type": "code",
      "execution_count": null,
      "metadata": {
        "id": "utSumogiA9QB"
      },
      "outputs": [],
      "source": [
        "model_dir = '/content/drive/MyDrive/Implementation/Model_BinaryLoss_Cosine/'"
      ]
    },
    {
      "cell_type": "markdown",
      "metadata": {
        "id": "SpHr6GbcqIgW"
      },
      "source": [
        "Loading the numpy files created from the orginal notebook (Contrastive Loss with Cosine Similarity) to avoid redundancy."
      ]
    },
    {
      "cell_type": "code",
      "execution_count": null,
      "metadata": {
        "id": "Ivakw3gSp_bf"
      },
      "outputs": [],
      "source": [
        "import numpy as np\n",
        "import os\n",
        "\n",
        "# Load test data from Google Drive\n",
        "test_data_path = '/content/drive/MyDrive/Implementation/dataset_preprocessed'\n",
        "\n",
        "# Load train data from the specified path\n",
        "X_train_1 = np.load(os.path.join(test_data_path, 'X_train_1.npy'))\n",
        "X_train_2 = np.load(os.path.join(test_data_path, 'X_train_2.npy'))\n",
        "train_labels = np.load(os.path.join(test_data_path, 'train_labels.npy'))\n",
        "\n",
        "# Load validation data from the specified path\n",
        "X_val_1 = np.load(os.path.join(test_data_path, 'X_val_1.npy'))\n",
        "X_val_2 = np.load(os.path.join(test_data_path, 'X_val_2.npy'))\n",
        "val_labels = np.load(os.path.join(test_data_path, 'val_labels.npy'))"
      ]
    },
    {
      "cell_type": "markdown",
      "metadata": {
        "id": "Rfhm8Sgg-MeK"
      },
      "source": [
        "# LSTM MODEL"
      ]
    },
    {
      "cell_type": "code",
      "execution_count": null,
      "metadata": {
        "id": "jrytxfmnc-vp"
      },
      "outputs": [],
      "source": [
        "import tensorflow as tf\n",
        "from tensorflow.keras import layers, models\n",
        "\n",
        "''' A Contrastive Loss funtion provided by Keras (https://keras.io/examples/vision/siamese_contrastive/#define-the-contrastive-loss)'''\n",
        "\n",
        "def loss(margin=1):\n",
        "    \"\"\"Provides 'contrastive_loss' an enclosing scope with variable 'margin'.\n",
        "\n",
        "    Arguments:\n",
        "        margin: Integer, defines the baseline for distance for which pairs\n",
        "                should be classified as dissimilar. - (default is 1).\n",
        "\n",
        "    Returns:\n",
        "        'contrastive_loss' function with data ('margin') attached.\n",
        "    \"\"\"\n",
        "\n",
        "    # Contrastive loss = mean( (1-true_value) * square(prediction) + true_value * square( max(margin-prediction, 0) ))\n",
        "    def contrastive_loss(y_true, y_pred):\n",
        "        \"\"\"Calculates the contrastive loss.\n",
        "\n",
        "        Arguments:\n",
        "            y_true: List of labels, each label is of type float32.\n",
        "            y_pred: List of predictions of same length as of y_true,\n",
        "                    each label is of type float32.\n",
        "\n",
        "        Returns:\n",
        "            A tensor containing contrastive loss as floating point value.\n",
        "        \"\"\"\n",
        "\n",
        "        square_pred = tf.square(y_pred)\n",
        "        margin_square = tf.square(tf.maximum(margin - (y_pred), 0))\n",
        "        return tf.reduce_mean((1 - y_true) * square_pred + (y_true) * margin_square)\n",
        "\n",
        "    return contrastive_loss"
      ]
    },
    {
      "cell_type": "code",
      "execution_count": null,
      "metadata": {
        "id": "jAO7oLTO-R-1"
      },
      "outputs": [],
      "source": [
        "input = tf.keras.layers.Input((200,6))\n",
        "x = tf.keras.layers.LSTM(512, return_sequences=True)(input)\n",
        "x = tf.keras.layers.Dropout(0.2)(x)\n",
        "x = tf.keras.layers.LSTM(256, return_sequences=True)(x)\n",
        "x = tf.keras.layers.LSTM(128)(x)\n",
        "x = tf.keras.layers.Dense(128)(x)\n",
        "x = tf.keras.layers.Dropout(0.2)(x)\n",
        "x = tf.keras.layers.Dense(64, activation='relu')(x)\n",
        "\n",
        "embedding_network = tf.keras.Model(input, x)\n",
        "\n",
        "input_1 = tf.keras.layers.Input((200,6))\n",
        "input_2 = tf.keras.layers.Input((200,6))\n",
        "\n",
        "tower_1 = embedding_network(input_1)\n",
        "tower_2 = embedding_network(input_2)\n",
        "\n",
        "merge_layer = tf.keras.layers.Dot(axes=1, normalize = True)([tower_1, tower_2])\n",
        "\n",
        "output_layer = tf.keras.layers.Dense(1, activation='sigmoid')(merge_layer)\n",
        "\n",
        "keras_siamese = tf.keras.Model(inputs=[input_1, input_2], outputs=output_layer)"
      ]
    },
    {
      "cell_type": "code",
      "execution_count": null,
      "metadata": {
        "colab": {
          "base_uri": "https://localhost:8080/"
        },
        "id": "cwXdt-jyJkMG",
        "outputId": "d5646bf4-57d3-447e-cbc1-b74cf79d13f7"
      },
      "outputs": [
        {
          "name": "stdout",
          "output_type": "stream",
          "text": [
            "Model: \"model_3\"\n",
            "__________________________________________________________________________________________________\n",
            " Layer (type)                Output Shape                 Param #   Connected to                  \n",
            "==================================================================================================\n",
            " input_5 (InputLayer)        [(None, 200, 6)]             0         []                            \n",
            "                                                                                                  \n",
            " input_6 (InputLayer)        [(None, 200, 6)]             0         []                            \n",
            "                                                                                                  \n",
            " model_2 (Functional)        (None, 64)                   2072256   ['input_5[0][0]',             \n",
            "                                                                     'input_6[0][0]']             \n",
            "                                                                                                  \n",
            " dot (Dot)                   (None, 1)                    0         ['model_2[0][0]',             \n",
            "                                                                     'model_2[1][0]']             \n",
            "                                                                                                  \n",
            " dense_5 (Dense)             (None, 1)                    2         ['dot[0][0]']                 \n",
            "                                                                                                  \n",
            "==================================================================================================\n",
            "Total params: 2072258 (7.91 MB)\n",
            "Trainable params: 2072258 (7.91 MB)\n",
            "Non-trainable params: 0 (0.00 Byte)\n",
            "__________________________________________________________________________________________________\n"
          ]
        }
      ],
      "source": [
        "keras_siamese.compile(loss=loss(margin=1), optimizer=\"RMSprop\", metrics=[\"accuracy\"])\n",
        "keras_siamese.summary()"
      ]
    },
    {
      "cell_type": "markdown",
      "metadata": {
        "id": "8Nw-Ia2H8fOF"
      },
      "source": [
        "## Defining the training checkpoints"
      ]
    },
    {
      "cell_type": "code",
      "execution_count": null,
      "metadata": {
        "colab": {
          "base_uri": "https://localhost:8080/"
        },
        "id": "V-FRRyoho0lY",
        "outputId": "13038dc8-9be8-4927-99d4-b925b556a084"
      },
      "outputs": [
        {
          "name": "stdout",
          "output_type": "stream",
          "text": [
            "Formatted Local Time in Sri Lanka: 2024-03-31_12:43\n"
          ]
        }
      ],
      "source": [
        "from datetime import datetime\n",
        "import pytz\n",
        "\n",
        "# Specify Sri Lanka timezone\n",
        "sri_lanka_timezone = pytz.timezone('Asia/Colombo')\n",
        "\n",
        "# Get the current time in UTC\n",
        "utc_now = datetime.utcnow()\n",
        "\n",
        "# Convert the UTC time to Sri Lanka's local time\n",
        "local_time = utc_now.replace(tzinfo=pytz.utc).astimezone(sri_lanka_timezone)\n",
        "\n",
        "# Format the local time as a string\n",
        "formatted_local_time = local_time.strftime(\"%Y-%m-%d_%H:%M\")\n",
        "\n",
        "print(\"Formatted Local Time in Sri Lanka:\", formatted_local_time)"
      ]
    },
    {
      "cell_type": "code",
      "execution_count": null,
      "metadata": {
        "colab": {
          "base_uri": "https://localhost:8080/"
        },
        "id": "LbhzKEdSk1A0",
        "outputId": "b9aa22e3-f32f-4f3e-c2b9-3b50470557a8"
      },
      "outputs": [
        {
          "name": "stdout",
          "output_type": "stream",
          "text": [
            "Checkpoint Path: /content/drive/MyDrive/Implementation/Model_BinaryLoss_Cosine/training_checkpoints/2024-03-31_12:43_cp.ckpt\n"
          ]
        }
      ],
      "source": [
        "import os\n",
        "\n",
        "checkpoint_dir = os.path.join(model_dir, 'training_checkpoints/')\n",
        "\n",
        "# Define checkpoint filepath\n",
        "checkpoint_path = os.path.join(checkpoint_dir, f'{formatted_local_time}_cp.ckpt')\n",
        "\n",
        "print(\"Checkpoint Path:\", checkpoint_path)"
      ]
    },
    {
      "cell_type": "code",
      "execution_count": null,
      "metadata": {
        "id": "XhKcTwszBrfC"
      },
      "outputs": [],
      "source": [
        "# Tensorboard logs dir\n",
        "log_dir = os.path.join(model_dir, 'tensorboard_logs/')"
      ]
    },
    {
      "cell_type": "code",
      "execution_count": null,
      "metadata": {
        "id": "uxCoojxunUiQ"
      },
      "outputs": [],
      "source": [
        "from tensorflow.keras.callbacks import ModelCheckpoint\n",
        "from tensorflow.keras.callbacks import EarlyStopping\n",
        "\n",
        "# Define the ModelCheckpoint callback to save weights\n",
        "checkpoint_callback = ModelCheckpoint(filepath=checkpoint_path,\n",
        "                                      save_weights_only=True,\n",
        "                                      save_best_only=True,\n",
        "                                      verbose=1)\n",
        "\n",
        "tensorboard_callback = tf.keras.callbacks.TensorBoard(log_dir=log_dir, histogram_freq=1)\n",
        "\n",
        "# Monitor validation loss, stop after 3 epochs without improvement\n",
        "early_stopping = EarlyStopping(monitor='val_loss', patience=3)"
      ]
    },
    {
      "cell_type": "code",
      "execution_count": null,
      "metadata": {
        "colab": {
          "base_uri": "https://localhost:8080/"
        },
        "id": "v8dRQg3N9L7G",
        "outputId": "c009d5c0-abee-4cae-983c-5b4425997a0a"
      },
      "outputs": [
        {
          "name": "stdout",
          "output_type": "stream",
          "text": [
            "Last Checkpoint:  None\n",
            "No checkpoint found. Starting training from scratch.\n"
          ]
        }
      ],
      "source": [
        "# Train the model from a saved checkpoint\n",
        "latest_checkpoint = tf.train.latest_checkpoint(checkpoint_dir)\n",
        "\n",
        "print(\"Last Checkpoint: \", latest_checkpoint)\n",
        "\n",
        "if latest_checkpoint:  # If a checkpoint exists\n",
        "    keras_siamese.load_weights(latest_checkpoint)\n",
        "    print('Loaded weights from checkpoint:', latest_checkpoint)\n",
        "else:\n",
        "    print('No checkpoint found. Starting training from scratch.')"
      ]
    },
    {
      "cell_type": "code",
      "execution_count": null,
      "metadata": {
        "colab": {
          "background_save": true,
          "base_uri": "https://localhost:8080/"
        },
        "id": "_zxxH7CWJ_gU",
        "outputId": "10cbd9b0-2986-4092-f44a-e910f467b06a"
      },
      "outputs": [
        {
          "output_type": "stream",
          "name": "stdout",
          "text": [
            "Epoch 1/10\n",
            "149/149 [==============================] - ETA: 0s - loss: 0.2515 - accuracy: 0.4918 \n",
            "Epoch 1: val_loss improved from 0.26324 to 0.25716, saving model to /content/drive/MyDrive/Implementation/Model_BinaryLoss_Cosine/training_checkpoints/2024-03-31_12:43_cp.ckpt\n",
            "149/149 [==============================] - 2045s 14s/step - loss: 0.2515 - accuracy: 0.4918 - val_loss: 0.2572 - val_accuracy: 0.4975\n",
            "Epoch 2/10\n",
            "149/149 [==============================] - ETA: 0s - loss: 0.2516 - accuracy: 0.4809 \n",
            "Epoch 2: val_loss improved from 0.25716 to 0.25639, saving model to /content/drive/MyDrive/Implementation/Model_BinaryLoss_Cosine/training_checkpoints/2024-03-31_12:43_cp.ckpt\n",
            "149/149 [==============================] - 2071s 14s/step - loss: 0.2516 - accuracy: 0.4809 - val_loss: 0.2564 - val_accuracy: 0.4966\n",
            "Epoch 3/10\n",
            "149/149 [==============================] - ETA: 0s - loss: 0.2512 - accuracy: 0.4924 \n",
            "Epoch 3: val_loss improved from 0.25639 to 0.25453, saving model to /content/drive/MyDrive/Implementation/Model_BinaryLoss_Cosine/training_checkpoints/2024-03-31_12:43_cp.ckpt\n",
            "149/149 [==============================] - 2038s 14s/step - loss: 0.2512 - accuracy: 0.4924 - val_loss: 0.2545 - val_accuracy: 0.4972\n",
            "Epoch 4/10\n",
            "149/149 [==============================] - ETA: 0s - loss: 0.2507 - accuracy: 0.4883 \n",
            "Epoch 4: val_loss improved from 0.25453 to 0.25365, saving model to /content/drive/MyDrive/Implementation/Model_BinaryLoss_Cosine/training_checkpoints/2024-03-31_12:43_cp.ckpt\n",
            "149/149 [==============================] - 2049s 14s/step - loss: 0.2507 - accuracy: 0.4883 - val_loss: 0.2536 - val_accuracy: 0.4969\n",
            "Epoch 5/10\n",
            "149/149 [==============================] - ETA: 0s - loss: 0.2507 - accuracy: 0.4899 \n",
            "Epoch 5: val_loss improved from 0.25365 to 0.25259, saving model to /content/drive/MyDrive/Implementation/Model_BinaryLoss_Cosine/training_checkpoints/2024-03-31_12:43_cp.ckpt\n",
            "149/149 [==============================] - 2023s 14s/step - loss: 0.2507 - accuracy: 0.4899 - val_loss: 0.2526 - val_accuracy: 0.4969\n",
            "Epoch 6/10\n",
            "149/149 [==============================] - ETA: 0s - loss: 0.2503 - accuracy: 0.4947 \n",
            "Epoch 6: val_loss improved from 0.25259 to 0.25237, saving model to /content/drive/MyDrive/Implementation/Model_BinaryLoss_Cosine/training_checkpoints/2024-03-31_12:43_cp.ckpt\n",
            "149/149 [==============================] - 1987s 13s/step - loss: 0.2503 - accuracy: 0.4947 - val_loss: 0.2524 - val_accuracy: 0.4997\n",
            "Epoch 7/10\n",
            "149/149 [==============================] - ETA: 0s - loss: 0.2503 - accuracy: 0.4968 "
          ]
        }
      ],
      "source": [
        "history = keras_siamese.fit(\n",
        "    [X_train_1, X_train_2],  # Training pairs\n",
        "    train_labels,  # Training labels\n",
        "    epochs=10,  # Number of epochs\n",
        "    batch_size=64,  # Batch size\n",
        "    validation_data=([X_val_1, X_val_2], val_labels),  # Validation data\n",
        "    callbacks = [checkpoint_callback, tensorboard_callback, early_stopping]\n",
        ")"
      ]
    },
    {
      "cell_type": "code",
      "execution_count": null,
      "metadata": {
        "id": "8bsch5jNGFIj"
      },
      "outputs": [],
      "source": [
        "%tensorboard --logdir={log_dir}"
      ]
    },
    {
      "cell_type": "markdown",
      "metadata": {
        "id": "X_qcRPicml9P"
      },
      "source": [
        "# Save and Export Model"
      ]
    },
    {
      "cell_type": "code",
      "execution_count": null,
      "metadata": {
        "id": "6z9LZEGoDFbU"
      },
      "outputs": [],
      "source": [
        "# Save the entire model to a HDF5 file (including architecture, weights, and training configuration)\n",
        "keras_siamese.save('siamese_model.tflite')"
      ]
    },
    {
      "cell_type": "code",
      "execution_count": null,
      "metadata": {
        "id": "riHtBPBgRkpG"
      },
      "outputs": [],
      "source": [
        "# Compress the folder\n",
        "!zip -r /content/model_03_18.zip /content/siamese_model.tflite\n",
        "\n",
        "# Generate a download link\n",
        "from google.colab import files\n",
        "files.download(\"/content/model_03_18.zip\")"
      ]
    }
  ],
  "metadata": {
    "colab": {
      "collapsed_sections": [
        "4ziEbAXsmUqc",
        "_QqRmFIuiXAd",
        "NMXh6etqmKBK"
      ],
      "provenance": []
    },
    "kernelspec": {
      "display_name": "Python 3",
      "name": "python3"
    },
    "language_info": {
      "name": "python"
    }
  },
  "nbformat": 4,
  "nbformat_minor": 0
}