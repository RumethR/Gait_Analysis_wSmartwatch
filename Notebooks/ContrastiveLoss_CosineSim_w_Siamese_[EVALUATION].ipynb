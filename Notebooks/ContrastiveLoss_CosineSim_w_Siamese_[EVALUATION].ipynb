{
  "cells": [
    {
      "cell_type": "markdown",
      "source": [
        "# Loading Model from Weights for Evaluation"
      ],
      "metadata": {
        "id": "WpaQHGT5g52q"
      }
    },
    {
      "cell_type": "code",
      "execution_count": null,
      "metadata": {
        "colab": {
          "base_uri": "https://localhost:8080/"
        },
        "id": "Reo4LuYqvy8h",
        "outputId": "71878d1d-e12f-4a6b-ea76-7030e27a82d7"
      },
      "outputs": [
        {
          "output_type": "stream",
          "name": "stdout",
          "text": [
            "Mounted at /content/drive\n"
          ]
        }
      ],
      "source": [
        "from google.colab import drive\n",
        "drive.mount('/content/drive')"
      ]
    },
    {
      "cell_type": "code",
      "execution_count": null,
      "metadata": {
        "id": "jrytxfmnc-vp"
      },
      "outputs": [],
      "source": [
        "import tensorflow as tf\n",
        "from tensorflow.keras import layers, models\n",
        "\n",
        "''' A Contrastive Loss funtion provided by Keras (https://keras.io/examples/vision/siamese_contrastive/#define-the-contrastive-loss)'''\n",
        "\n",
        "def loss(margin=1):\n",
        "    \"\"\"Provides 'contrastive_loss' an enclosing scope with variable 'margin'.\n",
        "\n",
        "    Arguments:\n",
        "        margin: Integer, defines the baseline for distance for which pairs\n",
        "                should be classified as dissimilar. - (default is 1).\n",
        "\n",
        "    Returns:\n",
        "        'contrastive_loss' function with data ('margin') attached.\n",
        "    \"\"\"\n",
        "\n",
        "    # Contrastive loss = mean( (1-true_value) * square(prediction) + true_value * square( max(margin-prediction, 0) ))\n",
        "    def contrastive_loss(y_true, y_pred):\n",
        "        \"\"\"Calculates the contrastive loss.\n",
        "\n",
        "        Arguments:\n",
        "            y_true: List of labels, each label is of type float32.\n",
        "            y_pred: List of predictions of same length as of y_true,\n",
        "                    each label is of type float32.\n",
        "\n",
        "        Returns:\n",
        "            A tensor containing contrastive loss as floating point value.\n",
        "        \"\"\"\n",
        "\n",
        "        square_pred = tf.square(y_pred)\n",
        "        margin_square = tf.square(tf.maximum(margin - (y_pred), 0))\n",
        "        return tf.reduce_mean((1 - y_true) * square_pred + (y_true) * margin_square)\n",
        "\n",
        "    return contrastive_loss"
      ]
    },
    {
      "cell_type": "code",
      "execution_count": null,
      "metadata": {
        "id": "jAO7oLTO-R-1"
      },
      "outputs": [],
      "source": [
        "input = tf.keras.layers.Input((200,6))\n",
        "x = tf.keras.layers.LSTM(512, return_sequences=True)(input)\n",
        "x = tf.keras.layers.Dropout(0.2)(x)\n",
        "x = tf.keras.layers.LSTM(256, return_sequences=True)(x)\n",
        "x = tf.keras.layers.LSTM(128)(x)\n",
        "x = tf.keras.layers.Dense(128)(x)\n",
        "x = tf.keras.layers.Dropout(0.2)(x)\n",
        "x = tf.keras.layers.Dense(64, activation='relu')(x)\n",
        "\n",
        "embedding_network = tf.keras.Model(input, x)\n",
        "\n",
        "input_1 = tf.keras.layers.Input((200,6))\n",
        "input_2 = tf.keras.layers.Input((200,6))\n",
        "\n",
        "tower_1 = embedding_network(input_1)\n",
        "tower_2 = embedding_network(input_2)\n",
        "\n",
        "merge_layer = tf.keras.layers.Dot(axes=1, normalize = True)([tower_1, tower_2])\n",
        "\n",
        "output_layer = tf.keras.layers.Dense(1, activation='sigmoid')(merge_layer)\n",
        "\n",
        "keras_siamese = tf.keras.Model(inputs=[input_1, input_2], outputs=output_layer)"
      ]
    },
    {
      "cell_type": "code",
      "execution_count": null,
      "metadata": {
        "colab": {
          "base_uri": "https://localhost:8080/"
        },
        "id": "cwXdt-jyJkMG",
        "outputId": "d36a8a48-2e13-4204-d7ac-e188116ea56b"
      },
      "outputs": [
        {
          "output_type": "stream",
          "name": "stdout",
          "text": [
            "Model: \"model_1\"\n",
            "__________________________________________________________________________________________________\n",
            " Layer (type)                Output Shape                 Param #   Connected to                  \n",
            "==================================================================================================\n",
            " input_2 (InputLayer)        [(None, 200, 6)]             0         []                            \n",
            "                                                                                                  \n",
            " input_3 (InputLayer)        [(None, 200, 6)]             0         []                            \n",
            "                                                                                                  \n",
            " model (Functional)          (None, 64)                   2072256   ['input_2[0][0]',             \n",
            "                                                                     'input_3[0][0]']             \n",
            "                                                                                                  \n",
            " dot (Dot)                   (None, 1)                    0         ['model[0][0]',               \n",
            "                                                                     'model[1][0]']               \n",
            "                                                                                                  \n",
            " dense_2 (Dense)             (None, 1)                    2         ['dot[0][0]']                 \n",
            "                                                                                                  \n",
            "==================================================================================================\n",
            "Total params: 2072258 (7.91 MB)\n",
            "Trainable params: 2072258 (7.91 MB)\n",
            "Non-trainable params: 0 (0.00 Byte)\n",
            "__________________________________________________________________________________________________\n"
          ]
        }
      ],
      "source": [
        "keras_siamese.compile(loss=loss(margin=1), optimizer=\"RMSprop\", metrics=[\"accuracy\"])\n",
        "keras_siamese.summary()"
      ]
    },
    {
      "cell_type": "markdown",
      "source": [
        "Loading Test data from saved NumPy files"
      ],
      "metadata": {
        "id": "8UopAcNwhDBC"
      }
    },
    {
      "cell_type": "code",
      "source": [
        "import numpy as np\n",
        "import os\n",
        "\n",
        "# Load test data from Google Drive\n",
        "test_data_path = '/content/drive/MyDrive/Implementation/dataset_preprocessed'\n",
        "\n",
        "# Load test data from the specified path\n",
        "test_X_1 = np.load(os.path.join(test_data_path, 'X_test_1.npy'))\n",
        "test_X_2 = np.load(os.path.join(test_data_path, 'X_test_2.npy'))\n",
        "test_y = np.load(os.path.join(test_data_path, 'test_labels.npy'))"
      ],
      "metadata": {
        "id": "sZjJR4jfhRU0"
      },
      "execution_count": null,
      "outputs": []
    },
    {
      "cell_type": "code",
      "source": [
        "print(test_y.size)"
      ],
      "metadata": {
        "colab": {
          "base_uri": "https://localhost:8080/"
        },
        "id": "dYcw1KMypJgR",
        "outputId": "f6ce7c99-e3e3-4eb5-c888-a9943b214605"
      },
      "execution_count": null,
      "outputs": [
        {
          "output_type": "stream",
          "name": "stdout",
          "text": [
            "816\n"
          ]
        }
      ]
    },
    {
      "cell_type": "code",
      "source": [
        "# Update the path as needed\n",
        "keras_siamese.load_weights('/content/drive/MyDrive/Implementation/Model_ContrastiveLoss_Cosine/training_checkpoints/2024-03-24_21_00_cp.ckpt')"
      ],
      "metadata": {
        "colab": {
          "base_uri": "https://localhost:8080/"
        },
        "id": "rS2Zlceagdel",
        "outputId": "f324dd3d-b137-45c6-bc7d-1c118631ca85"
      },
      "execution_count": null,
      "outputs": [
        {
          "output_type": "execute_result",
          "data": {
            "text/plain": [
              "<tensorflow.python.checkpoint.checkpoint.CheckpointLoadStatus at 0x7a2260236860>"
            ]
          },
          "metadata": {},
          "execution_count": 14
        }
      ]
    },
    {
      "cell_type": "markdown",
      "source": [
        "# Performing basic Model.Evaluate"
      ],
      "metadata": {
        "id": "3lqEEyLrhHgS"
      }
    },
    {
      "cell_type": "code",
      "source": [
        "# Evaluate the model\n",
        "evaluation = keras_siamese.evaluate([test_X_1, test_X_2], test_y)\n",
        "\n",
        "# Print evaluation results\n",
        "print(\"Loss:\", evaluation[0])\n",
        "print(\"Accuracy of Non-Converted Non-Quantized Model:\", evaluation[1])"
      ],
      "metadata": {
        "id": "mfwfqOoChKXs",
        "colab": {
          "base_uri": "https://localhost:8080/"
        },
        "outputId": "6b332ead-5cf1-43be-9955-a7fde83858ff"
      },
      "execution_count": null,
      "outputs": [
        {
          "output_type": "stream",
          "name": "stdout",
          "text": [
            "26/26 [==============================] - 47s 2s/step - loss: 0.0661 - accuracy: 0.9424\n",
            "Loss: 0.06611516326665878\n",
            "Accuracy of Non-Converted Non-Quantized Model: 0.9424019455909729\n"
          ]
        }
      ]
    },
    {
      "cell_type": "markdown",
      "source": [
        "# Calculating Equal Error Rate (EER)"
      ],
      "metadata": {
        "id": "95h6efJuhVAK"
      }
    },
    {
      "cell_type": "markdown",
      "source": [
        "Calculate Equal Error Rate using a sweeping threshold"
      ],
      "metadata": {
        "id": "c8IRdpHpEs5b"
      }
    },
    {
      "cell_type": "code",
      "source": [
        "# Creating an array of all predictions with Test set for eval\n",
        "predictions_raw = keras_siamese.predict([test_X_1, test_X_2])"
      ],
      "metadata": {
        "colab": {
          "base_uri": "https://localhost:8080/"
        },
        "id": "RyBSDQFqlmDq",
        "outputId": "1790bd4f-9e85-49d0-92b5-8b413ae44dc3"
      },
      "execution_count": null,
      "outputs": [
        {
          "output_type": "stream",
          "name": "stdout",
          "text": [
            "26/26 [==============================] - 46s 2s/step\n"
          ]
        }
      ]
    },
    {
      "cell_type": "markdown",
      "source": [
        "EER Calculation was based on:\n",
        "https://github.com/YuanGongND/python-compute-eer?tab=readme-ov-file"
      ],
      "metadata": {
        "id": "f_CAMPqJGIfK"
      }
    },
    {
      "cell_type": "code",
      "source": [
        "import numpy as np\n",
        "\n",
        "scores = predictions_raw  # Scores between 0 and 1\n",
        "\n",
        "labels = test_y\n",
        "\n",
        "# Threshold sweep\n",
        "sweep_thresholds = np.linspace(0, 1, 100)\n",
        "far = np.zeros_like(sweep_thresholds)\n",
        "frr = np.zeros_like(sweep_thresholds)\n",
        "\n",
        "for i, threshold in enumerate(sweep_thresholds):\n",
        "  # Make predictions based on threshold\n",
        "  eer_predictions = scores > threshold\n",
        "\n",
        "  # Calculate FAR and FRR\n",
        "  far[i] = np.mean(eer_predictions[labels == 0])  # False Acceptance Rate\n",
        "  frr[i] = np.mean(1 - eer_predictions[labels == 1])  # False Rejection Rate\n",
        "\n",
        "# Find the EER (equal error rate)\n",
        "eer_threshold = sweep_thresholds[np.argmin(np.abs(far - frr))]\n",
        "eer = np.min(np.abs(far - frr))\n",
        "\n",
        "print(f\"Equal Error Rate (EER): {eer:.4f} at threshold: {eer_threshold:.4f}\")"
      ],
      "metadata": {
        "id": "Wnd1s0oyEy_H",
        "colab": {
          "base_uri": "https://localhost:8080/"
        },
        "outputId": "aeda4b78-ba51-4eca-f3c9-d01b93e5d835"
      },
      "execution_count": null,
      "outputs": [
        {
          "output_type": "stream",
          "name": "stdout",
          "text": [
            "Equal Error Rate (EER): 0.0026 at threshold: 0.6061\n"
          ]
        }
      ]
    },
    {
      "cell_type": "code",
      "source": [
        "far_at_threshold = far[np.where(sweep_thresholds == eer_threshold)[0][0]]\n",
        "frr_at_threshold = frr[np.where(sweep_thresholds == eer_threshold)[0][0]]\n",
        "\n",
        "print(f\"False Rejection Rate at Threshold: {frr_at_threshold:.4f}\")\n",
        "print(f\"False Acceptance Rate at Threshold: {far_at_threshold:.4f}\")"
      ],
      "metadata": {
        "colab": {
          "base_uri": "https://localhost:8080/"
        },
        "id": "fah1e2Dm5Wtw",
        "outputId": "1fd74e4d-40af-4693-c8b5-383ef659b65e"
      },
      "execution_count": null,
      "outputs": [
        {
          "output_type": "stream",
          "name": "stdout",
          "text": [
            "False Rejection Rate at Threshold: 0.0698\n",
            "False Acceptance Rate at Threshold: 0.0672\n"
          ]
        }
      ]
    },
    {
      "cell_type": "markdown",
      "source": [
        "# Plotting Confusion Matrix (Based on EER)"
      ],
      "metadata": {
        "id": "VXc6H6v0hZOv"
      }
    },
    {
      "cell_type": "code",
      "source": [
        "import matplotlib.pyplot as plt\n",
        "from sklearn.metrics import confusion_matrix\n",
        "import seaborn as sns\n",
        "\n",
        "class_labels = ['Legitamate', 'Imposter']\n",
        "\n",
        "predictions = (predictions_raw > eer_threshold).astype(int)\n",
        "cm = confusion_matrix(test_y, predictions)\n",
        "\n",
        "# Plot confusion matrix with sample counts\n",
        "plt.figure(figsize=(8,6))\n",
        "sns.heatmap(cm, annot=True, fmt='d', cmap='Blues', xticklabels=class_labels, yticklabels=class_labels)\n",
        "plt.xlabel('Predicted labels')\n",
        "plt.ylabel('True labels')\n",
        "plt.title('Confusion Matrix')\n",
        "plt.show()"
      ],
      "metadata": {
        "id": "GFN1BAWVjzha",
        "colab": {
          "base_uri": "https://localhost:8080/",
          "height": 564
        },
        "outputId": "25488c99-0f3a-4ffd-e92d-fd746ef35aec"
      },
      "execution_count": null,
      "outputs": [
        {
          "output_type": "display_data",
          "data": {
            "text/plain": [
              "<Figure size 800x600 with 2 Axes>"
            ],
            "image/png": "[encoded data removed]"
          },
          "metadata": {}
        }
      ]
    },
    {
      "cell_type": "markdown",
      "source": [
        "# Plotting ROC CURVE"
      ],
      "metadata": {
        "id": "7OvU368fhOgU"
      }
    },
    {
      "cell_type": "code",
      "source": [
        "# Plot AUC and ROC curve\n",
        "from sklearn.metrics import roc_curve, auc\n",
        "\n",
        "# Calculate ROC curve\n",
        "fpr, tpr, thresholds = roc_curve(test_y, predictions)\n",
        "roc_auc = auc(fpr, tpr)\n",
        "\n",
        "# Plot ROC curve\n",
        "plt.plot(fpr, tpr, label='ROC curve (area = %0.2f)' % roc_auc)\n",
        "plt.plot([0, 1], [0, 1], 'k--')\n",
        "plt.xlim([0.0, 1.0])\n",
        "plt.ylim([0.0, 1.0])\n",
        "plt.xlabel('False Positive Rate')\n",
        "plt.ylabel('True Positive Rate')\n",
        "plt.title('Receiver Operating Characteristic')\n",
        "plt.legend(loc=\"lower right\")\n",
        "plt.show()"
      ],
      "metadata": {
        "id": "hRnD8Qc4j1Ka",
        "colab": {
          "base_uri": "https://localhost:8080/",
          "height": 472
        },
        "outputId": "890368bf-431e-4b04-a8b8-b64a75cd7c32"
      },
      "execution_count": null,
      "outputs": [
        {
          "output_type": "display_data",
          "data": {
            "text/plain": [
              "<Figure size 640x480 with 1 Axes>"
            ],
            "image/png": "[encoded data removed]"
          },
          "metadata": {}
        }
      ]
    },
    {
      "cell_type": "code",
      "source": [
        "print(f\"False Positive Rate {fpr[1]:.4f}\")\n",
        "print(f\"True Positive Rate {tpr[1]:.4f}\")"
      ],
      "metadata": {
        "colab": {
          "base_uri": "https://localhost:8080/"
        },
        "id": "wC7gLhFmGliT",
        "outputId": "147cf482-351d-4b70-bded-9e7d24122c70"
      },
      "execution_count": null,
      "outputs": [
        {
          "output_type": "stream",
          "name": "stdout",
          "text": [
            "False Positive Rate 0.0672\n",
            "True Positive Rate 0.9302\n"
          ]
        }
      ]
    },
    {
      "cell_type": "markdown",
      "source": [
        "# Converting to TFLite (No quantization)"
      ],
      "metadata": {
        "id": "OVaJt6z0hf6q"
      }
    },
    {
      "cell_type": "code",
      "source": [
        "# Convert the Keras model to a TensorFlow Lite model\n",
        "converter = tf.lite.TFLiteConverter.from_keras_model(keras_siamese)\n",
        "converter.target_spec.supported_ops = [tf.lite.OpsSet.TFLITE_BUILTINS, tf.lite.OpsSet.SELECT_TF_OPS]\n",
        "tflite_model = converter.convert()\n",
        "\n",
        "# Save the TensorFlow Lite model to a file\n",
        "tflite_model_path = '/content/drive/MyDrive/Implementation/siamese_model.tflite'\n",
        "with open(tflite_model_path, 'wb') as f:\n",
        "  f.write(tflite_model)\n",
        "  print(\"The model was successfully converted to Tensorflow Lite!\")"
      ],
      "metadata": {
        "colab": {
          "base_uri": "https://localhost:8080/"
        },
        "id": "fjo_HE5EapL9",
        "outputId": "c4faf67e-3708-42f6-ea33-cee485ef4db8"
      },
      "execution_count": null,
      "outputs": [
        {
          "output_type": "stream",
          "name": "stdout",
          "text": [
            "The model was successfully converted to Tensorflow Lite!\n"
          ]
        }
      ]
    },
    {
      "cell_type": "markdown",
      "source": [
        "# Converting to TFLite (With quantization)"
      ],
      "metadata": {
        "id": "SNQjc6lUhmb-"
      }
    },
    {
      "cell_type": "code",
      "source": [
        "converter.optimizations = [tf.lite.Optimize.DEFAULT]\n",
        "quantized_tflite_model = converter.convert()\n",
        "quantized_tflite_path = '/content/drive/MyDrive/Implementation/siamese_model_quantized.tflite'\n",
        "with open(quantized_tflite_path, 'wb') as f:\n",
        "  f.write(quantized_tflite_model)\n",
        "  print(\"The model was successfully converted to Quantized Tensorflow Lite!\")"
      ],
      "metadata": {
        "colab": {
          "base_uri": "https://localhost:8080/"
        },
        "id": "hulNMU2LzkFW",
        "outputId": "6124db3a-a2ec-499b-bea0-f31d9192dd0f"
      },
      "execution_count": null,
      "outputs": [
        {
          "output_type": "stream",
          "name": "stdout",
          "text": [
            "The model was successfully converted to Quantized Tensorflow Lite!\n"
          ]
        }
      ]
    },
    {
      "cell_type": "markdown",
      "source": [
        "# Using TFLite Python runtime for inferencing and evaluation"
      ],
      "metadata": {
        "id": "nvqUZV6Yi4c5"
      }
    },
    {
      "cell_type": "code",
      "source": [
        "interpreter = tf.lite.Interpreter(model_path=str(tflite_model_path))\n",
        "interpreter.allocate_tensors()"
      ],
      "metadata": {
        "id": "ral4H7Lu1Bmz"
      },
      "execution_count": null,
      "outputs": []
    },
    {
      "cell_type": "code",
      "source": [
        "import numpy as np\n",
        "# Load the TFLite model and allocate tensors.\n",
        "interpreter = tf.lite.Interpreter(model_path=tflite_model_path)\n",
        "interpreter.allocate_tensors()\n",
        "\n",
        "# Get input and output tensors.\n",
        "input_details = interpreter.get_input_details()\n",
        "output_details = interpreter.get_output_details()\n",
        "\n",
        "# Test the model on the first example from the test set\n",
        "test_sample_1 = test_X_1[1]\n",
        "test_sample_2 = test_X_2[1]\n",
        "\n",
        "# Preprocess the input data as needed.\n",
        "input_data_1 = np.expand_dims(test_sample_1, axis=0).astype(np.float32)\n",
        "input_data_2 = np.expand_dims(test_sample_2, axis=0).astype(np.float32)\n",
        "\n",
        "# Set input tensors.\n",
        "interpreter.set_tensor(input_details[0]['index'], input_data_1)\n",
        "interpreter.set_tensor(input_details[1]['index'], input_data_2)\n",
        "\n",
        "# Run the inference.\n",
        "interpreter.invoke()\n",
        "\n",
        "# Get the output.\n",
        "output_data = interpreter.get_tensor(output_details[0]['index'])\n",
        "\n",
        "# Print the prediction.\n",
        "print(\"Prediction:\", output_data)\n"
      ],
      "metadata": {
        "colab": {
          "base_uri": "https://localhost:8080/"
        },
        "id": "0EHYj3SD4qGH",
        "outputId": "5eaa8a46-25e6-445b-8c06-51b2ce8293fe"
      },
      "execution_count": null,
      "outputs": [
        {
          "output_type": "stream",
          "name": "stdout",
          "text": [
            "Prediction: [[0.17818542]]\n"
          ]
        }
      ]
    },
    {
      "cell_type": "code",
      "source": [
        "# Get the corresponding label for the test sample\n",
        "true_label = test_y[1]\n",
        "print(\"Label\", true_label)\n",
        "\n",
        "# Compare the prediction with the true label\n",
        "# Using Threshold extracted from EER\n",
        "if output_data > eer_threshold and true_label == 1:\n",
        "  print(\"Correct prediction: Legitimate transaction\")\n",
        "elif output_data <= eer_threshold and true_label == 0:\n",
        "  print(\"Correct prediction: Imposter transaction\")\n",
        "else:\n",
        "  print(\"Incorrect prediction\")\n"
      ],
      "metadata": {
        "colab": {
          "base_uri": "https://localhost:8080/"
        },
        "id": "Pvt5lKF--eVf",
        "outputId": "3c26f505-a001-439e-86a2-b6ea8d57a52e"
      },
      "execution_count": null,
      "outputs": [
        {
          "output_type": "stream",
          "name": "stdout",
          "text": [
            "Label 0.0\n",
            "Correct prediction: Imposter transaction\n"
          ]
        }
      ]
    },
    {
      "cell_type": "markdown",
      "source": [
        "# Testing the accuracy when inferencing the Non-Quantized Model"
      ],
      "metadata": {
        "id": "fMk5p7xhio3b"
      }
    },
    {
      "cell_type": "code",
      "source": [
        "import copy\n",
        "\n",
        "def evaluate_model(interpreter):\n",
        "  # Get input details\n",
        "  input_details = interpreter.get_input_details()\n",
        "  output_details = interpreter.get_output_details()[0]['index']\n",
        "\n",
        "  # Evaluate the model\n",
        "  predictions=[]\n",
        "  for i in range(len(test_X_1)):\n",
        "    # Set input tensors\n",
        "    input_data_1 = np.expand_dims(test_X_1[i], axis=0).astype(np.float32)\n",
        "    input_data_2 = np.expand_dims(test_X_2[i], axis=0).astype(np.float32)\n",
        "\n",
        "    interpreter.set_tensor(input_details[0]['index'], input_data_1)\n",
        "    interpreter.set_tensor(input_details[1]['index'], input_data_2)\n",
        "\n",
        "    # Run inference\n",
        "    interpreter.invoke()\n",
        "\n",
        "    # Get output tensor\n",
        "    output_data = interpreter.tensor(output_details)\n",
        "    predictions.append(copy.copy(output_data()[0]))\n",
        "\n",
        "  return predictions"
      ],
      "metadata": {
        "id": "r5ZwIMRI2FYN"
      },
      "execution_count": null,
      "outputs": []
    },
    {
      "cell_type": "code",
      "source": [
        "predictions = evaluate_model(interpreter)"
      ],
      "metadata": {
        "id": "9FnOTPeiGm-U"
      },
      "execution_count": null,
      "outputs": []
    },
    {
      "cell_type": "code",
      "source": [
        "accurate_count = 0\n",
        "for index in range(len(predictions)):\n",
        "  if (predictions[index]>eer_threshold and test_y[index]==1) or (predictions[index]<eer_threshold and test_y[index]==0):\n",
        "    accurate_count += 1\n",
        "\n",
        "accuracy = accurate_count * 1.0 / len(predictions)\n",
        "print(\"Accuracy of the Non-Quantized Converted Model: \", accuracy)"
      ],
      "metadata": {
        "colab": {
          "base_uri": "https://localhost:8080/"
        },
        "id": "u5yRWPeO_DQs",
        "outputId": "b18fc03f-08c0-40d0-d220-ed3472d54297"
      },
      "execution_count": null,
      "outputs": [
        {
          "output_type": "stream",
          "name": "stdout",
          "text": [
            "Accuracy of the Non-Quantized Converted Model:  0.9313725490196079\n"
          ]
        }
      ]
    },
    {
      "cell_type": "markdown",
      "source": [
        "# Testing the accuracy when inferencing the Quantized Model"
      ],
      "metadata": {
        "id": "ZEggakQnnemA"
      }
    },
    {
      "cell_type": "code",
      "source": [
        "quant_interpreter = tf.lite.Interpreter(model_path=str(quantized_tflite_path))\n",
        "quant_interpreter.allocate_tensors()"
      ],
      "metadata": {
        "id": "x7lVFNDXnlNP"
      },
      "execution_count": null,
      "outputs": []
    },
    {
      "cell_type": "code",
      "source": [
        "quant_predictions = evaluate_model(interpreter)"
      ],
      "metadata": {
        "id": "--fP_QDOn6Hf"
      },
      "execution_count": null,
      "outputs": []
    },
    {
      "cell_type": "code",
      "source": [
        "accurate_count = 0\n",
        "for index in range(len(quant_predictions)):\n",
        "  if (quant_predictions[index]>eer_threshold and test_y[index]==1) or (quant_predictions[index]<eer_threshold and test_y[index]==0):\n",
        "    accurate_count += 1\n",
        "\n",
        "accuracy = accurate_count * 1.0 / len(quant_predictions)\n",
        "print(\"Accuracy of the Quantized Model: \",accuracy)"
      ],
      "metadata": {
        "colab": {
          "base_uri": "https://localhost:8080/"
        },
        "id": "6o_SU8t4n-3t",
        "outputId": "c247b1a2-abc4-4663-aa6c-090bda49a761"
      },
      "execution_count": null,
      "outputs": [
        {
          "output_type": "stream",
          "name": "stdout",
          "text": [
            "Accuracy of the Quantized Model:  0.9313725490196079\n"
          ]
        }
      ]
    },
    {
      "cell_type": "markdown",
      "source": [
        "# Writing Metadata"
      ],
      "metadata": {
        "id": "LxRlj72liEfD"
      }
    },
    {
      "cell_type": "code",
      "source": [
        "!pip install tflite-support"
      ],
      "metadata": {
        "colab": {
          "base_uri": "https://localhost:8080/"
        },
        "id": "_oyfgP5DJwN4",
        "outputId": "441847cf-f5c5-4fce-d4cd-1abe8abb283c"
      },
      "execution_count": null,
      "outputs": [
        {
          "output_type": "stream",
          "name": "stdout",
          "text": [
            "Collecting tflite-support\n",
            "  Downloading tflite_support-0.4.4-cp310-cp310-manylinux2014_x86_64.whl (60.8 MB)\n",
            "\u001b[2K     \u001b[90m━━━━━━━━━━━━━━━━━━━━━━━━━━━━━━━━━━━━━━━━\u001b[0m \u001b[32m60.8/60.8 MB\u001b[0m \u001b[31m12.4 MB/s\u001b[0m eta \u001b[36m0:00:00\u001b[0m\n",
            "\u001b[?25hRequirement already satisfied: absl-py>=0.7.0 in /usr/local/lib/python3.10/dist-packages (from tflite-support) (1.4.0)\n",
            "Requirement already satisfied: numpy>=1.20.0 in /usr/local/lib/python3.10/dist-packages (from tflite-support) (1.25.2)\n",
            "Requirement already satisfied: flatbuffers>=2.0 in /usr/local/lib/python3.10/dist-packages (from tflite-support) (24.3.7)\n",
            "Requirement already satisfied: protobuf<4,>=3.18.0 in /usr/local/lib/python3.10/dist-packages (from tflite-support) (3.20.3)\n",
            "Collecting sounddevice>=0.4.4 (from tflite-support)\n",
            "  Downloading sounddevice-0.4.6-py3-none-any.whl (31 kB)\n",
            "Collecting pybind11>=2.6.0 (from tflite-support)\n",
            "  Downloading pybind11-2.12.0-py3-none-any.whl (234 kB)\n",
            "\u001b[2K     \u001b[90m━━━━━━━━━━━━━━━━━━━━━━━━━━━━━━━━━━━━━━━━\u001b[0m \u001b[32m235.0/235.0 kB\u001b[0m \u001b[31m27.1 MB/s\u001b[0m eta \u001b[36m0:00:00\u001b[0m\n",
            "\u001b[?25hRequirement already satisfied: CFFI>=1.0 in /usr/local/lib/python3.10/dist-packages (from sounddevice>=0.4.4->tflite-support) (1.16.0)\n",
            "Requirement already satisfied: pycparser in /usr/local/lib/python3.10/dist-packages (from CFFI>=1.0->sounddevice>=0.4.4->tflite-support) (2.21)\n",
            "Installing collected packages: pybind11, sounddevice, tflite-support\n",
            "Successfully installed pybind11-2.12.0 sounddevice-0.4.6 tflite-support-0.4.4\n"
          ]
        }
      ]
    },
    {
      "cell_type": "code",
      "source": [
        "import numpy as np\n",
        "# Create a metadata object\n",
        "metadata = tf.lite.metadata.MetadataWriter.create_for_inference(quantized_tflite_path)\n",
        "\n",
        "# Add metadata for the input and output tensors\n",
        "metadata.add_input_tensor_metadata(input_details[0]['index'], \"input_1\", \"LSTM_input\", np.float32, [1, 200, 6])\n",
        "metadata.add_input_tensor_metadata(input_details[1]['index'], \"input_2\", \"LSTM_input\", np.float32, [1, 200, 6])\n",
        "metadata.add_output_tensor_metadata(output_details[0]['index'], \"output\", \"sigmoid_output\", np.float32, [1, 1])\n",
        "\n",
        "# Add metadata for the model\n",
        "metadata.add_model_metadata(associated_files=[\"model.json\"])\n",
        "\n",
        "# Finish writing the metadata\n",
        "metadata.finish()"
      ],
      "metadata": {
        "id": "RRTEdla4qRiQ"
      },
      "execution_count": null,
      "outputs": []
    }
  ],
  "metadata": {
    "colab": {
      "provenance": []
    },
    "kernelspec": {
      "display_name": "Python 3",
      "name": "python3"
    },
    "language_info": {
      "name": "python"
    }
  },
  "nbformat": 4,
  "nbformat_minor": 0
}